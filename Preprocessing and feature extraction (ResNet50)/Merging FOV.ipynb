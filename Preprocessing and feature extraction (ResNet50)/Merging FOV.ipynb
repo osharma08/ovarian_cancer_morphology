{
 "cells": [
  {
   "cell_type": "code",
   "execution_count": null,
   "id": "balanced-sample",
   "metadata": {},
   "outputs": [],
   "source": [
    "import glob\n",
    "import os\n",
    "from PIL import Image\n",
    "import numpy as np\n",
    "import cv2 "
   ]
  },
  {
   "cell_type": "markdown",
   "id": "communist-sheffield",
   "metadata": {},
   "source": [
    "# Merging FOV for fixed cell data"
   ]
  },
  {
   "cell_type": "code",
   "execution_count": null,
   "id": "6a83910b",
   "metadata": {
    "scrolled": false
   },
   "outputs": [],
   "source": [
    "directory_raw = '/media/gauss/Elements/OvCar3/'\n",
    "\n",
    "directory_merged = '/media/gauss/Elements/OvCar3_Merged_FOV_Nuclei/'\n",
    "\n",
    "\n",
    "for filename in sorted(os.listdir(directory_raw)):\n",
    "    file = os.path.join(directory_raw, filename + '/Images')\n",
    "    images_FOV =  sorted([os.path.basename(x) for x in glob.glob(file + '/*.tiff')])\n",
    "    os.mkdir(os.path.expanduser(\"/media/gauss/Elements/OvCar3_Merged_FOV_Nuclei/{}\".format(filename)))\n",
    "    path_mFOV = os.path.join(directory_merged, filename) +'/'\n",
    "    for i in range(2, 4608, 12):\n",
    "        im = images_FOV[i]\n",
    "        \n",
    "        prefix = im.split(\"f01p01-ch3sk1fk1fl1.tiff\")[0]\n",
    "\n",
    "        f1 = Image.open(os.path.join(file, images_FOV[i]))\n",
    "        f1 = np.array(f1)\n",
    "        f1 = f1[0:2160,0:2160]\n",
    "       \n",
    "        f2 = Image.open(os.path.join(file, images_FOV[i+3]))\n",
    "        f2 = np.array(f2)\n",
    "        f2 = f2[0:2160,15:]\n",
    "\n",
    "\n",
    "        f3 = Image.open(os.path.join(file, images_FOV[i+6]))\n",
    "        f3 = np.array(f3)\n",
    "        f3 = f3[15:,15:]\n",
    "\n",
    "        f4 = Image.open(os.path.join(file, images_FOV[i+9]))\n",
    "        f4 = np.array(f4)\n",
    "        f4 = f4[15:,0:2160]\n",
    "        \n",
    "        f12 = np.hstack((f1,f2))\n",
    "        f43 = np.hstack((f4, f3))\n",
    "        f1243 = np.vstack((f12, f43))\n",
    "      \n",
    "        cv2.imwrite(path_mFOV+ prefix+ 'ch3.tiff',f1243)\n",
    "        "
   ]
  }
 ],
 "metadata": {
  "kernelspec": {
   "display_name": "Python 3 (ipykernel)",
   "language": "python",
   "name": "python3"
  },
  "language_info": {
   "codemirror_mode": {
    "name": "ipython",
    "version": 3
   },
   "file_extension": ".py",
   "mimetype": "text/x-python",
   "name": "python",
   "nbconvert_exporter": "python",
   "pygments_lexer": "ipython3",
   "version": "3.10.12"
  }
 },
 "nbformat": 4,
 "nbformat_minor": 5
}
