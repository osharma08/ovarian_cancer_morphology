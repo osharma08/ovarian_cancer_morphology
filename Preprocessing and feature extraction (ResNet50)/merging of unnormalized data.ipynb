{
 "cells": [
  {
   "cell_type": "markdown",
   "id": "caring-drinking",
   "metadata": {},
   "source": [
    "# Step 1:\n",
    "\n",
    "## Load the libraries"
   ]
  },
  {
   "cell_type": "code",
   "execution_count": 1,
   "id": "banned-treasury",
   "metadata": {},
   "outputs": [],
   "source": [
    "import pandas as pd  \n",
    "import numpy as np\n",
    "from pandas import read_excel\n",
    "import pandas as pd\n",
    "import scipy\n",
    "from scipy import stats\n",
    "import os\n",
    "from glob import glob"
   ]
  },
  {
   "cell_type": "markdown",
   "id": "premium-helen",
   "metadata": {},
   "source": [
    "# Step 2: \n",
    "## Merge the annotations with the features"
   ]
  },
  {
   "cell_type": "code",
   "execution_count": null,
   "id": "fc332521",
   "metadata": {
    "scrolled": true
   },
   "outputs": [],
   "source": [
    "feature_folder = '/home/gauss/Desktop/Trained Features_FilteredBBox_pooledwellsd2d3d4/KB/'\n",
    "annot_folder = '/4tbint/Plate_annotations_newMoAs/KB'\n",
    "\n",
    "for filename in sorted(os.listdir(feature_folder)):\n",
    "    if filename == 'Normalised_features' or filename == 'Unnormalized_features':\n",
    "        exit\n",
    "    else:\n",
    "        plate_path = os.path.join(feature_folder, filename)\n",
    "        file = filename.split(\"/\")[-1]\n",
    "        print(file)\n",
    "        \n",
    "        for features in sorted(os.listdir(plate_path)): \n",
    "            feature_path = os.path.join(plate_path, features)\n",
    "            print(features)\n",
    "            #to get file name\n",
    "            prefix = features.split(\".\")[0]\n",
    "            #prefix = prefix.split(\"_\")[1]\n",
    "            prefix_plate = list(prefix)\n",
    "            print(prefix)\n",
    "            \n",
    "            feature_data = pd.read_excel(feature_path)\n",
    "\n",
    "            for annot_file in sorted(os.listdir(annot_folder)):\n",
    "                ann_file = annot_file.split(\".\")\n",
    "                ann_file = annot_file.split(\"_annot\")[0]\n",
    "                \n",
    "            \n",
    "                annot_path = os.path.join(annot_folder, annot_file)\n",
    "                \n",
    "                if file == ann_file:\n",
    "                    print(annot_file)\n",
    "\n",
    "                    annot_data = pd.read_excel(annot_path)\n",
    "                    feature_data = feature_data.join(annot_data, lsuffix='_left', rsuffix='_right')\n",
    "                    \n",
    "            feature_data.to_excel(\"/home/gauss/Desktop/Trained Features_FilteredBBox_pooledwellsd2d3d4/KB_unnormalized/{}.xlsx\".format(prefix))\n"
   ]
  },
  {
   "cell_type": "code",
   "execution_count": 15,
   "id": "ecff9460",
   "metadata": {},
   "outputs": [
    {
     "name": "stdout",
     "output_type": "stream",
     "text": [
      "Plate_1\n",
      "Plate_1_annot.xlsx\n",
      "Plate_2\n",
      "Plate_2_annot.xlsx\n",
      "Plate_3\n",
      "Plate_3_annot.xlsx\n",
      "Plate_4\n",
      "Plate_4_annot.xlsx\n",
      "Plate_5\n",
      "Plate_5_annot.xlsx\n",
      "Plate_6\n",
      "Plate_6_annot.xlsx\n",
      "Plate_7\n",
      "Plate_7_annot.xlsx\n",
      "Plate_8\n",
      "Plate_8_annot.xlsx\n"
     ]
    }
   ],
   "source": [
    "feature_folder = '/home/gauss/Desktop/Trained Features_FilteredBBox_pooledwellsd2d3d4/O8W/'\n",
    "annot_folder = '/4tbint/Plate_annotations_newMoAs/'\n",
    "\n",
    "for filename in sorted(os.listdir(feature_folder)):\n",
    "    plate_path = os.path.join(feature_folder, filename)\n",
    "    #print(plate_path)\n",
    "    file = filename.split(\".\")[0]\n",
    "    print(file)\n",
    "    feature_data = pd.read_excel(plate_path)\n",
    "    prefix = file.split(\".\")[0]\n",
    "    #print(prefix)\n",
    "\n",
    "    for annot_file in sorted(os.listdir(annot_folder)):\n",
    "        ann_file = annot_file.split(\".\")\n",
    "        ann_file = annot_file.split(\"_annot\")[0]\n",
    "        #print(ann_file)\n",
    "        annot_path = os.path.join(annot_folder, annot_file)\n",
    "        #print(annot_path)\n",
    "        if file == ann_file:\n",
    "            print(annot_file)\n",
    "\n",
    "            annot_data = pd.read_excel(annot_path)\n",
    "                \n",
    "            feature_data = feature_data.join(annot_data, lsuffix='_left', rsuffix='_right')\n",
    "    feature_data.to_excel(\"/home/gauss/Desktop/Trained Features_FilteredBBox_pooledwellsd2d3d4/Unnormalized/O8W/{}.xlsx\".format(prefix))\n"
   ]
  },
  {
   "cell_type": "code",
   "execution_count": 19,
   "id": "eb1c47e7",
   "metadata": {},
   "outputs": [
    {
     "name": "stdout",
     "output_type": "stream",
     "text": [
      "N1863.xlsx\n",
      "N1863\n",
      "N1A81.xlsx\n",
      "N1A81\n",
      "N1A82.xlsx\n",
      "N1A82\n",
      "N1Set25.xlsx\n",
      "N1Set25\n",
      "N1Set89.xlsx\n",
      "N1Set89\n",
      "N2863.xlsx\n",
      "N2863\n",
      "N2A81.xlsx\n",
      "N2A81\n",
      "N2A82.xlsx\n",
      "N2A82\n",
      "N2Set25.xlsx\n",
      "N2Set25\n",
      "N2Set89.xlsx\n",
      "N2Set89\n",
      "N3863.xlsx\n",
      "N3863\n",
      "N3A81.xlsx\n",
      "N3A81\n",
      "N3A82.xlsx\n",
      "N3A82\n",
      "N3Set25.xlsx\n",
      "N3Set25\n",
      "N3Set89.xlsx\n",
      "N3Set89\n",
      "N4863.xlsx\n",
      "N4863\n",
      "N4A81.xlsx\n",
      "N4A81\n",
      "N4A82.xlsx\n",
      "N4A82\n",
      "N4Set25.xlsx\n",
      "N4Set25\n",
      "N4Set89.xlsx\n",
      "N4Set89\n",
      "N5863.xlsx\n",
      "N5863\n",
      "N5A81.xlsx\n",
      "N5A81\n",
      "N5A82.xlsx\n",
      "N5A82\n",
      "N5Set25.xlsx\n",
      "N5Set25\n",
      "N5Set89.xlsx\n",
      "N5Set89\n",
      "N6863.xlsx\n",
      "N6863\n",
      "N6A81.xlsx\n",
      "N6A81\n",
      "N6A82.xlsx\n",
      "N6A82\n",
      "N6Set25.xlsx\n",
      "N6Set25\n",
      "N6Set89.xlsx\n",
      "N6Set89\n",
      "N7863.xlsx\n",
      "N7863\n",
      "N7A81.xlsx\n",
      "N7A81\n",
      "N7A82.xlsx\n",
      "N7A82\n",
      "N7Set25.xlsx\n",
      "N7Set25\n",
      "N7Set89.xlsx\n",
      "N7Set89\n",
      "N8863.xlsx\n",
      "N8863\n",
      "N8A81.xlsx\n",
      "N8A81\n",
      "N8A82.xlsx\n",
      "N8A82\n",
      "N8Set25.xlsx\n",
      "N8Set25\n",
      "N8Set89.xlsx\n",
      "N8Set89\n"
     ]
    }
   ],
   "source": [
    "appended_data = []\n",
    "\n",
    "unnorm_features = \"/home/gauss/Desktop/Trained Features_FilteredBBox_pooledwellsd2d3d4/Unnormalized/\"\n",
    "\n",
    "for feature_file in sorted(os.listdir(unnorm_features)):\n",
    "    print(feature_file)\n",
    "    unnorm_feature_data = pd.read_excel(os.path.join(unnorm_features, feature_file))\n",
    "    \n",
    "    #prefix_comb = feature_file.split(\"_\")[1]\n",
    "    prefix_comb = feature_file.split(\".\")[0]\n",
    "    print(prefix_comb)\n",
    "\n",
    "    if \"A81\" in prefix_comb:\n",
    "        combo = \"O3B\"\n",
    "        \n",
    "    elif \"A82\" in prefix_comb:\n",
    "        combo = 'KB'\n",
    "    \n",
    "    elif \"Set25\" in prefix_comb:\n",
    "        combo = 'KW'\n",
    "        \n",
    "    elif \"Set89\" in prefix_comb:\n",
    "        combo = 'O8W'\n",
    "        \n",
    "    elif \"863\" in prefix_comb:\n",
    "        combo = 'MHB'\n",
    "        \n",
    "    combination = combo\n",
    "\n",
    "    unnorm_feature_data.insert(0,'Combination', combination)\n",
    "    \n",
    "    prefix_plate = list(prefix_comb)\n",
    "    #print(prefix_plate)\n",
    "\n",
    "    unnorm_feature_data.insert(0,'Plate number', prefix_plate[1] )\n",
    "\n",
    "    appended_data.append(unnorm_feature_data)\n",
    "    \n",
    "appended_data = pd.concat(appended_data)\n",
    "# write DataFrame to an excel sheet \n",
    "appended_data.to_excel('/home/gauss/Desktop/Trained Features_FilteredBBox_pooledwellsd2d3d4/Unnormalized/alldata.xlsx')\n"
   ]
  },
  {
   "cell_type": "code",
   "execution_count": 17,
   "id": "a88f473c",
   "metadata": {},
   "outputs": [
    {
     "name": "stdout",
     "output_type": "stream",
     "text": [
      "/home/gauss/Desktop/Trained Features_FilteredBBox_pooledwellsd2d3d4/Unnormalized\n"
     ]
    }
   ],
   "source": [
    "cd /home/gauss/Desktop/Trained Features_FilteredBBox_pooledwellsd2d3d4/Unnormalized/"
   ]
  },
  {
   "cell_type": "code",
   "execution_count": 18,
   "id": "96930baf",
   "metadata": {},
   "outputs": [],
   "source": [
    "rm -r .ipynb_checkpoints"
   ]
  },
  {
   "cell_type": "code",
   "execution_count": null,
   "id": "aa26c31b",
   "metadata": {},
   "outputs": [],
   "source": [
    "file_name = \"/home/gauss/Desktop/Training_KB/KB_DMSO_DRUG_2/Features/Unnormalized_features/alldata.xlsx\"\n",
    "data = pd.read_excel(file_name)\n",
    "\n",
    "df2=data.fillna(0)\n",
    "df2.replace([np.inf, -np.inf], 0, inplace=True)\n",
    "df2.to_excel('/home/gauss/Desktop/Training_KB/KB_DMSO_DRUG_2/Features/Unnormalized_features/alldata.xlsx')"
   ]
  },
  {
   "cell_type": "code",
   "execution_count": null,
   "id": "c12e2151",
   "metadata": {},
   "outputs": [],
   "source": [
    "df2"
   ]
  },
  {
   "cell_type": "code",
   "execution_count": null,
   "id": "99c48055",
   "metadata": {},
   "outputs": [],
   "source": []
  }
 ],
 "metadata": {
  "kernelspec": {
   "display_name": "Python 3 (ipykernel)",
   "language": "python",
   "name": "python3"
  },
  "language_info": {
   "codemirror_mode": {
    "name": "ipython",
    "version": 3
   },
   "file_extension": ".py",
   "mimetype": "text/x-python",
   "name": "python",
   "nbconvert_exporter": "python",
   "pygments_lexer": "ipython3",
   "version": "3.10.12"
  }
 },
 "nbformat": 4,
 "nbformat_minor": 5
}
