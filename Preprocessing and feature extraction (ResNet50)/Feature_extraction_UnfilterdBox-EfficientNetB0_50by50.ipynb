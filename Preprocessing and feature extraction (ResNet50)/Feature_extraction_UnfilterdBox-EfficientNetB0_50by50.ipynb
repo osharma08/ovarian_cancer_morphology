{
 "cells": [
  {
   "cell_type": "markdown",
   "id": "optional-little",
   "metadata": {},
   "source": [
    "# 1. Load the libraries"
   ]
  },
  {
   "cell_type": "code",
   "execution_count": 1,
   "id": "virgin-stress",
   "metadata": {},
   "outputs": [
    {
     "name": "stderr",
     "output_type": "stream",
     "text": [
      "2024-11-21 15:38:54.635666: I tensorflow/core/platform/cpu_feature_guard.cc:210] This TensorFlow binary is optimized to use available CPU instructions in performance-critical operations.\n",
      "To enable the following instructions: AVX2 AVX512F FMA, in other operations, rebuild TensorFlow with the appropriate compiler flags.\n",
      "2024-11-21 15:38:55.581247: W tensorflow/compiler/tf2tensorrt/utils/py_utils.cc:38] TF-TRT Warning: Could not find TensorRT\n"
     ]
    }
   ],
   "source": [
    "import os\n",
    "os.environ[\"CUDA_DEVICE_ORDER\"] = \"PCI_BUS_ID\"\n",
    "os.environ[\"CUDA_VISIBLE_DEVICES\"] = \"0\"\n",
    "\n",
    "import cv2\n",
    "import glob\n",
    "import numpy as np\n",
    "import pandas as pd  \n",
    "from PIL import Image\n",
    "from skimage import measure\n",
    "from keras import backend as K\n",
    "import matplotlib.pyplot as plt\n",
    "import matplotlib.patches as mpatches\n",
    "import matplotlib.patches as patches\n",
    "import tensorflow as tf\n",
    "from skimage.measure import label, regionprops, regionprops_table"
   ]
  },
  {
   "cell_type": "markdown",
   "id": "4b32114e",
   "metadata": {},
   "source": [
    "# 2. EfficientNetB0"
   ]
  },
  {
   "cell_type": "markdown",
   "id": "4c9d34af",
   "metadata": {},
   "source": [
    "## 2.1 Load the model"
   ]
  },
  {
   "cell_type": "code",
   "execution_count": 2,
   "id": "indirect-silicon",
   "metadata": {},
   "outputs": [
    {
     "name": "stderr",
     "output_type": "stream",
     "text": [
      "2024-11-21 15:38:57.270625: I tensorflow/core/common_runtime/gpu/gpu_device.cc:1928] Created device /job:localhost/replica:0/task:0/device:GPU:0 with 9612 MB memory:  -> device: 0, name: NVIDIA GeForce RTX 2080 Ti, pci bus id: 0000:17:00.0, compute capability: 7.5\n"
     ]
    }
   ],
   "source": [
    "from tensorflow.keras.applications import EfficientNetB0\n",
    "from tensorflow.keras.models import Model, Sequential\n",
    "from tensorflow.keras.layers import Flatten, Dense, GlobalAveragePooling2D, MaxPooling2D, AveragePooling2D\n",
    "from tensorflow import keras \n",
    "from tensorflow.keras import layers\n",
    "from tensorflow.keras.models import load_model\n",
    "from tensorflow.keras.applications.efficientnet import preprocess_input\n",
    "\n",
    "with tf.device('/CPU:0'):\n",
    "    base_model = EfficientNetB0(include_top=False, weights=\"imagenet\", input_shape=(50, 50, 3))\n",
    "    layer = base_model.get_layer(name=\"top_conv\").output\n",
    "    output = GlobalAveragePooling2D()(layer)\n",
    "    feature_extraction_model = Model(inputs=base_model.inputs, outputs=output)\n",
    "\n"
   ]
  },
  {
   "cell_type": "code",
   "execution_count": 3,
   "id": "d57ddb2c",
   "metadata": {},
   "outputs": [
    {
     "name": "stdout",
     "output_type": "stream",
     "text": [
      "Maximum intensity for channel 1: 65289\n",
      "Maximum intensity for channel 2: 65535\n",
      "Maximum intensity for channel 4: 64458\n",
      "Quantile_099 channel 1: 1959.0\n",
      "Quantile_099 channel 2: 2514.0\n",
      "Quantile_099 channel 4: 5185.0\n"
     ]
    }
   ],
   "source": [
    "#define the file paths for the images and corresponding masks\n",
    "image_path = '/4tbint/Corrected Merged FOVs/Set5/20200408_N7863__2020-04-08T10_57_43-Measurement 2'\n",
    "mask_path = '/4tbint/Cellpose Masks/Set5/20200408_N7863__2020-04-08T10_57_43-Measurement 2'\n",
    "\n",
    "#use the glob library to generate lists of image and mask filenames\n",
    "images =  sorted([os.path.basename(x) for x in glob.glob(image_path + '/*.tiff')])\n",
    "cellpose_mask = sorted([os.path.basename(x) for x in glob.glob(mask_path + '/*.tiff')])\n",
    "\n",
    "ch1 = [] #fibroblast\n",
    "ch2 = [] #cancer\n",
    "ch4 = [] #dapi\n",
    "\n",
    "\n",
    "for i in range(0, 1152, 3):\n",
    "    \n",
    "    CH1_path = os.path.join(image_path, images[i])\n",
    "    CH2_path = os.path.join(image_path, images[i+2]) #for MHB ch3 is cancer \n",
    "    CH4_path = os.path.join(image_path, images[i+1]) #for MHB ch2 is DAPI\n",
    "\n",
    " \n",
    "    #read images and masks using the Image library, and converts them to numpy arrays.\n",
    "    ch1_img = Image.open(CH1_path)\n",
    "    ch2_img = Image.open(CH2_path)\n",
    "    ch4_img = Image.open(CH4_path)\n",
    "\n",
    "    ch1.append(np.array(ch1_img))\n",
    "    ch2.append(np.array(ch2_img))\n",
    "    ch4.append(np.array(ch4_img))\n",
    "\n",
    "ch1_max = np.max(ch1)\n",
    "ch2_max = np.max(ch2)\n",
    "ch4_max = np.max(ch4)\n",
    "print(\"Maximum intensity for channel 1:\", ch1_max)\n",
    "print(\"Maximum intensity for channel 2:\", ch2_max)\n",
    "print(\"Maximum intensity for channel 4:\", ch4_max)\n",
    "\n",
    "ch1_q099 =  np.quantile(ch1, 0.99)\n",
    "ch2_q099 =  np.quantile(ch2, 0.99)\n",
    "ch4_q099 =  np.quantile(ch4, 0.99)\n",
    "print(\"Quantile_099 channel 1:\", ch1_q099)\n",
    "print(\"Quantile_099 channel 2:\", ch2_q099)\n",
    "print(\"Quantile_099 channel 4:\", ch4_q099)"
   ]
  },
  {
   "cell_type": "markdown",
   "id": "auburn-trigger",
   "metadata": {},
   "source": [
    "## 2.3 Read images as tensors and extract features"
   ]
  },
  {
   "cell_type": "code",
   "execution_count": null,
   "id": "2d94d5c8",
   "metadata": {
    "scrolled": true
   },
   "outputs": [
    {
     "name": "stdout",
     "output_type": "stream",
     "text": [
      "r01c01ch3.tiff\n"
     ]
    },
    {
     "name": "stderr",
     "output_type": "stream",
     "text": [
      "/home/gauss/miniconda3/envs/tf24/lib/python3.12/site-packages/keras/src/models/functional.py:225: UserWarning: The structure of `inputs` doesn't match the expected structure: ['keras_tensor']. Received: the structure of inputs=*\n",
      "  warnings.warn(\n",
      "2024-11-21 15:42:00.812143: W tensorflow/core/framework/local_rendezvous.cc:404] Local rendezvous is aborting with status: OUT_OF_RANGE: End of sequence\n"
     ]
    },
    {
     "name": "stdout",
     "output_type": "stream",
     "text": [
      "r01c02ch3.tiff\n"
     ]
    },
    {
     "name": "stderr",
     "output_type": "stream",
     "text": [
      "2024-11-21 15:42:04.473836: W tensorflow/core/framework/local_rendezvous.cc:404] Local rendezvous is aborting with status: OUT_OF_RANGE: End of sequence\n"
     ]
    },
    {
     "name": "stdout",
     "output_type": "stream",
     "text": [
      "r01c03ch3.tiff\n"
     ]
    },
    {
     "name": "stderr",
     "output_type": "stream",
     "text": [
      "2024-11-21 15:42:18.340180: W tensorflow/core/framework/local_rendezvous.cc:404] Local rendezvous is aborting with status: OUT_OF_RANGE: End of sequence\n"
     ]
    },
    {
     "name": "stdout",
     "output_type": "stream",
     "text": [
      "r01c04ch3.tiff\n"
     ]
    },
    {
     "name": "stderr",
     "output_type": "stream",
     "text": [
      "2024-11-21 15:42:21.680243: W tensorflow/core/framework/local_rendezvous.cc:404] Local rendezvous is aborting with status: OUT_OF_RANGE: End of sequence\n"
     ]
    },
    {
     "name": "stdout",
     "output_type": "stream",
     "text": [
      "r01c05ch3.tiff\n"
     ]
    },
    {
     "name": "stderr",
     "output_type": "stream",
     "text": [
      "2024-11-21 15:42:24.570532: W tensorflow/core/framework/local_rendezvous.cc:404] Local rendezvous is aborting with status: OUT_OF_RANGE: End of sequence\n"
     ]
    },
    {
     "name": "stdout",
     "output_type": "stream",
     "text": [
      "r01c06ch3.tiff\n"
     ]
    },
    {
     "name": "stderr",
     "output_type": "stream",
     "text": [
      "2024-11-21 15:42:51.556091: W tensorflow/core/framework/local_rendezvous.cc:404] Local rendezvous is aborting with status: OUT_OF_RANGE: End of sequence\n"
     ]
    },
    {
     "name": "stdout",
     "output_type": "stream",
     "text": [
      "r01c07ch3.tiff\n"
     ]
    },
    {
     "name": "stderr",
     "output_type": "stream",
     "text": [
      "2024-11-21 15:42:54.327028: W tensorflow/core/framework/local_rendezvous.cc:404] Local rendezvous is aborting with status: OUT_OF_RANGE: End of sequence\n"
     ]
    },
    {
     "name": "stdout",
     "output_type": "stream",
     "text": [
      "r01c08ch3.tiff\n"
     ]
    },
    {
     "name": "stderr",
     "output_type": "stream",
     "text": [
      "2024-11-21 15:42:57.202398: W tensorflow/core/framework/local_rendezvous.cc:404] Local rendezvous is aborting with status: OUT_OF_RANGE: End of sequence\n"
     ]
    },
    {
     "name": "stdout",
     "output_type": "stream",
     "text": [
      "r01c09ch3.tiff\n"
     ]
    },
    {
     "name": "stderr",
     "output_type": "stream",
     "text": [
      "2024-11-21 15:43:00.113470: W tensorflow/core/framework/local_rendezvous.cc:404] Local rendezvous is aborting with status: OUT_OF_RANGE: End of sequence\n"
     ]
    },
    {
     "name": "stdout",
     "output_type": "stream",
     "text": [
      "r01c10ch3.tiff\n"
     ]
    },
    {
     "name": "stderr",
     "output_type": "stream",
     "text": [
      "2024-11-21 15:43:26.565785: W tensorflow/core/framework/local_rendezvous.cc:404] Local rendezvous is aborting with status: OUT_OF_RANGE: End of sequence\n"
     ]
    },
    {
     "name": "stdout",
     "output_type": "stream",
     "text": [
      "r01c11ch3.tiff\n"
     ]
    },
    {
     "name": "stderr",
     "output_type": "stream",
     "text": [
      "2024-11-21 15:43:29.533491: W tensorflow/core/framework/local_rendezvous.cc:404] Local rendezvous is aborting with status: OUT_OF_RANGE: End of sequence\n"
     ]
    },
    {
     "name": "stdout",
     "output_type": "stream",
     "text": [
      "r01c12ch3.tiff\n"
     ]
    },
    {
     "name": "stderr",
     "output_type": "stream",
     "text": [
      "2024-11-21 15:43:33.781832: W tensorflow/core/framework/local_rendezvous.cc:404] Local rendezvous is aborting with status: OUT_OF_RANGE: End of sequence\n"
     ]
    },
    {
     "name": "stdout",
     "output_type": "stream",
     "text": [
      "r01c13ch3.tiff\n"
     ]
    },
    {
     "name": "stderr",
     "output_type": "stream",
     "text": [
      "2024-11-21 15:43:52.922354: W tensorflow/core/framework/local_rendezvous.cc:404] Local rendezvous is aborting with status: OUT_OF_RANGE: End of sequence\n"
     ]
    },
    {
     "name": "stdout",
     "output_type": "stream",
     "text": [
      "r01c14ch3.tiff\n"
     ]
    },
    {
     "name": "stderr",
     "output_type": "stream",
     "text": [
      "2024-11-21 15:44:16.802238: W tensorflow/core/framework/local_rendezvous.cc:404] Local rendezvous is aborting with status: OUT_OF_RANGE: End of sequence\n"
     ]
    },
    {
     "name": "stdout",
     "output_type": "stream",
     "text": [
      "r01c15ch3.tiff\n"
     ]
    },
    {
     "name": "stderr",
     "output_type": "stream",
     "text": [
      "2024-11-21 15:44:44.120054: W tensorflow/core/framework/local_rendezvous.cc:404] Local rendezvous is aborting with status: OUT_OF_RANGE: End of sequence\n"
     ]
    },
    {
     "name": "stdout",
     "output_type": "stream",
     "text": [
      "r01c16ch3.tiff\n"
     ]
    },
    {
     "name": "stderr",
     "output_type": "stream",
     "text": [
      "2024-11-21 15:45:11.309722: W tensorflow/core/framework/local_rendezvous.cc:404] Local rendezvous is aborting with status: OUT_OF_RANGE: End of sequence\n"
     ]
    },
    {
     "name": "stdout",
     "output_type": "stream",
     "text": [
      "r01c17ch3.tiff\n"
     ]
    },
    {
     "name": "stderr",
     "output_type": "stream",
     "text": [
      "2024-11-21 15:45:16.671529: W tensorflow/core/framework/local_rendezvous.cc:404] Local rendezvous is aborting with status: OUT_OF_RANGE: End of sequence\n"
     ]
    },
    {
     "name": "stdout",
     "output_type": "stream",
     "text": [
      "r01c18ch3.tiff\n"
     ]
    },
    {
     "name": "stderr",
     "output_type": "stream",
     "text": [
      "2024-11-21 15:45:41.784935: W tensorflow/core/framework/local_rendezvous.cc:404] Local rendezvous is aborting with status: OUT_OF_RANGE: End of sequence\n"
     ]
    },
    {
     "name": "stdout",
     "output_type": "stream",
     "text": [
      "r01c19ch3.tiff\n"
     ]
    },
    {
     "name": "stderr",
     "output_type": "stream",
     "text": [
      "2024-11-21 15:46:04.766442: W tensorflow/core/framework/local_rendezvous.cc:404] Local rendezvous is aborting with status: OUT_OF_RANGE: End of sequence\n"
     ]
    },
    {
     "name": "stdout",
     "output_type": "stream",
     "text": [
      "r01c20ch3.tiff\n"
     ]
    },
    {
     "name": "stderr",
     "output_type": "stream",
     "text": [
      "2024-11-21 15:46:26.841597: W tensorflow/core/framework/local_rendezvous.cc:404] Local rendezvous is aborting with status: OUT_OF_RANGE: End of sequence\n"
     ]
    },
    {
     "name": "stdout",
     "output_type": "stream",
     "text": [
      "r01c21ch3.tiff\n"
     ]
    },
    {
     "name": "stderr",
     "output_type": "stream",
     "text": [
      "2024-11-21 15:46:42.504740: W tensorflow/core/framework/local_rendezvous.cc:404] Local rendezvous is aborting with status: OUT_OF_RANGE: End of sequence\n"
     ]
    },
    {
     "name": "stdout",
     "output_type": "stream",
     "text": [
      "r01c22ch3.tiff\n"
     ]
    },
    {
     "name": "stderr",
     "output_type": "stream",
     "text": [
      "2024-11-21 15:46:47.144001: W tensorflow/core/framework/local_rendezvous.cc:404] Local rendezvous is aborting with status: OUT_OF_RANGE: End of sequence\n"
     ]
    },
    {
     "name": "stdout",
     "output_type": "stream",
     "text": [
      "r01c23ch3.tiff\n"
     ]
    },
    {
     "name": "stderr",
     "output_type": "stream",
     "text": [
      "2024-11-21 15:46:50.069481: W tensorflow/core/framework/local_rendezvous.cc:404] Local rendezvous is aborting with status: OUT_OF_RANGE: End of sequence\n"
     ]
    },
    {
     "name": "stdout",
     "output_type": "stream",
     "text": [
      "r01c24ch3.tiff\n"
     ]
    },
    {
     "name": "stderr",
     "output_type": "stream",
     "text": [
      "2024-11-21 15:47:08.817699: W tensorflow/core/framework/local_rendezvous.cc:404] Local rendezvous is aborting with status: OUT_OF_RANGE: End of sequence\n"
     ]
    },
    {
     "name": "stdout",
     "output_type": "stream",
     "text": [
      "r02c01ch3.tiff\n"
     ]
    },
    {
     "name": "stderr",
     "output_type": "stream",
     "text": [
      "2024-11-21 15:47:34.979874: W tensorflow/core/framework/local_rendezvous.cc:404] Local rendezvous is aborting with status: OUT_OF_RANGE: End of sequence\n"
     ]
    },
    {
     "name": "stdout",
     "output_type": "stream",
     "text": [
      "r02c02ch3.tiff\n"
     ]
    },
    {
     "name": "stderr",
     "output_type": "stream",
     "text": [
      "2024-11-21 15:48:04.185921: W tensorflow/core/framework/local_rendezvous.cc:404] Local rendezvous is aborting with status: OUT_OF_RANGE: End of sequence\n"
     ]
    },
    {
     "name": "stdout",
     "output_type": "stream",
     "text": [
      "r02c03ch3.tiff\n"
     ]
    },
    {
     "name": "stderr",
     "output_type": "stream",
     "text": [
      "2024-11-21 15:48:23.707347: W tensorflow/core/framework/local_rendezvous.cc:404] Local rendezvous is aborting with status: OUT_OF_RANGE: End of sequence\n"
     ]
    },
    {
     "name": "stdout",
     "output_type": "stream",
     "text": [
      "r02c04ch3.tiff\n"
     ]
    },
    {
     "name": "stderr",
     "output_type": "stream",
     "text": [
      "2024-11-21 15:48:33.654332: W tensorflow/core/framework/local_rendezvous.cc:404] Local rendezvous is aborting with status: OUT_OF_RANGE: End of sequence\n"
     ]
    },
    {
     "name": "stdout",
     "output_type": "stream",
     "text": [
      "r02c05ch3.tiff\n"
     ]
    },
    {
     "name": "stderr",
     "output_type": "stream",
     "text": [
      "2024-11-21 15:48:43.646057: W tensorflow/core/framework/local_rendezvous.cc:404] Local rendezvous is aborting with status: OUT_OF_RANGE: End of sequence\n"
     ]
    },
    {
     "name": "stdout",
     "output_type": "stream",
     "text": [
      "r02c06ch3.tiff\n"
     ]
    },
    {
     "name": "stderr",
     "output_type": "stream",
     "text": [
      "2024-11-21 15:49:15.180888: W tensorflow/core/framework/local_rendezvous.cc:404] Local rendezvous is aborting with status: OUT_OF_RANGE: End of sequence\n"
     ]
    },
    {
     "name": "stdout",
     "output_type": "stream",
     "text": [
      "r02c08ch3.tiff\n"
     ]
    },
    {
     "name": "stderr",
     "output_type": "stream",
     "text": [
      "2024-11-21 15:49:18.815711: W tensorflow/core/framework/local_rendezvous.cc:404] Local rendezvous is aborting with status: OUT_OF_RANGE: End of sequence\n"
     ]
    },
    {
     "name": "stdout",
     "output_type": "stream",
     "text": [
      "r02c09ch3.tiff\n"
     ]
    },
    {
     "name": "stderr",
     "output_type": "stream",
     "text": [
      "2024-11-21 15:49:43.370210: W tensorflow/core/framework/local_rendezvous.cc:404] Local rendezvous is aborting with status: OUT_OF_RANGE: End of sequence\n"
     ]
    },
    {
     "name": "stdout",
     "output_type": "stream",
     "text": [
      "r02c10ch3.tiff\n"
     ]
    },
    {
     "name": "stderr",
     "output_type": "stream",
     "text": [
      "2024-11-21 15:50:12.546237: W tensorflow/core/framework/local_rendezvous.cc:404] Local rendezvous is aborting with status: OUT_OF_RANGE: End of sequence\n"
     ]
    },
    {
     "name": "stdout",
     "output_type": "stream",
     "text": [
      "r02c11ch3.tiff\n"
     ]
    },
    {
     "name": "stderr",
     "output_type": "stream",
     "text": [
      "2024-11-21 15:50:15.751327: W tensorflow/core/framework/local_rendezvous.cc:404] Local rendezvous is aborting with status: OUT_OF_RANGE: End of sequence\n"
     ]
    },
    {
     "name": "stdout",
     "output_type": "stream",
     "text": [
      "r02c12ch3.tiff\n"
     ]
    },
    {
     "name": "stderr",
     "output_type": "stream",
     "text": [
      "2024-11-21 15:50:42.135795: W tensorflow/core/framework/local_rendezvous.cc:404] Local rendezvous is aborting with status: OUT_OF_RANGE: End of sequence\n"
     ]
    },
    {
     "name": "stdout",
     "output_type": "stream",
     "text": [
      "r02c13ch3.tiff\n"
     ]
    },
    {
     "name": "stderr",
     "output_type": "stream",
     "text": [
      "2024-11-21 15:50:58.242426: W tensorflow/core/framework/local_rendezvous.cc:404] Local rendezvous is aborting with status: OUT_OF_RANGE: End of sequence\n"
     ]
    },
    {
     "name": "stdout",
     "output_type": "stream",
     "text": [
      "r02c14ch3.tiff\n"
     ]
    },
    {
     "name": "stderr",
     "output_type": "stream",
     "text": [
      "2024-11-21 15:51:23.490309: W tensorflow/core/framework/local_rendezvous.cc:404] Local rendezvous is aborting with status: OUT_OF_RANGE: End of sequence\n"
     ]
    },
    {
     "name": "stdout",
     "output_type": "stream",
     "text": [
      "r02c15ch3.tiff\n"
     ]
    },
    {
     "name": "stderr",
     "output_type": "stream",
     "text": [
      "2024-11-21 15:51:50.057687: W tensorflow/core/framework/local_rendezvous.cc:404] Local rendezvous is aborting with status: OUT_OF_RANGE: End of sequence\n"
     ]
    },
    {
     "name": "stdout",
     "output_type": "stream",
     "text": [
      "r02c16ch3.tiff\n"
     ]
    },
    {
     "name": "stderr",
     "output_type": "stream",
     "text": [
      "2024-11-21 15:51:52.871379: W tensorflow/core/framework/local_rendezvous.cc:404] Local rendezvous is aborting with status: OUT_OF_RANGE: End of sequence\n"
     ]
    },
    {
     "name": "stdout",
     "output_type": "stream",
     "text": [
      "r02c17ch3.tiff\n"
     ]
    },
    {
     "name": "stderr",
     "output_type": "stream",
     "text": [
      "2024-11-21 15:52:08.869265: W tensorflow/core/framework/local_rendezvous.cc:404] Local rendezvous is aborting with status: OUT_OF_RANGE: End of sequence\n"
     ]
    },
    {
     "name": "stdout",
     "output_type": "stream",
     "text": [
      "r02c18ch3.tiff\n"
     ]
    },
    {
     "name": "stderr",
     "output_type": "stream",
     "text": [
      "2024-11-21 15:52:43.646188: W tensorflow/core/framework/local_rendezvous.cc:404] Local rendezvous is aborting with status: OUT_OF_RANGE: End of sequence\n"
     ]
    },
    {
     "name": "stdout",
     "output_type": "stream",
     "text": [
      "r02c19ch3.tiff\n"
     ]
    },
    {
     "name": "stderr",
     "output_type": "stream",
     "text": [
      "2024-11-21 15:53:16.152326: W tensorflow/core/framework/local_rendezvous.cc:404] Local rendezvous is aborting with status: OUT_OF_RANGE: End of sequence\n"
     ]
    },
    {
     "name": "stdout",
     "output_type": "stream",
     "text": [
      "r02c20ch3.tiff\n"
     ]
    },
    {
     "name": "stderr",
     "output_type": "stream",
     "text": [
      "2024-11-21 15:53:43.602663: W tensorflow/core/framework/local_rendezvous.cc:404] Local rendezvous is aborting with status: OUT_OF_RANGE: End of sequence\n"
     ]
    },
    {
     "name": "stdout",
     "output_type": "stream",
     "text": [
      "r02c21ch3.tiff\n"
     ]
    },
    {
     "name": "stderr",
     "output_type": "stream",
     "text": [
      "2024-11-21 15:54:07.923054: W tensorflow/core/framework/local_rendezvous.cc:404] Local rendezvous is aborting with status: OUT_OF_RANGE: End of sequence\n"
     ]
    },
    {
     "name": "stdout",
     "output_type": "stream",
     "text": [
      "r02c22ch3.tiff\n"
     ]
    },
    {
     "name": "stderr",
     "output_type": "stream",
     "text": [
      "2024-11-21 15:54:26.867523: W tensorflow/core/framework/local_rendezvous.cc:404] Local rendezvous is aborting with status: OUT_OF_RANGE: End of sequence\n"
     ]
    },
    {
     "name": "stdout",
     "output_type": "stream",
     "text": [
      "r02c23ch3.tiff\n"
     ]
    },
    {
     "name": "stderr",
     "output_type": "stream",
     "text": [
      "2024-11-21 15:54:37.220063: W tensorflow/core/framework/local_rendezvous.cc:404] Local rendezvous is aborting with status: OUT_OF_RANGE: End of sequence\n"
     ]
    },
    {
     "name": "stdout",
     "output_type": "stream",
     "text": [
      "r02c24ch3.tiff\n"
     ]
    },
    {
     "name": "stderr",
     "output_type": "stream",
     "text": [
      "2024-11-21 15:55:03.108433: W tensorflow/core/framework/local_rendezvous.cc:404] Local rendezvous is aborting with status: OUT_OF_RANGE: End of sequence\n"
     ]
    },
    {
     "name": "stdout",
     "output_type": "stream",
     "text": [
      "r03c01ch3.tiff\n"
     ]
    },
    {
     "name": "stderr",
     "output_type": "stream",
     "text": [
      "2024-11-21 15:55:19.881479: W tensorflow/core/framework/local_rendezvous.cc:404] Local rendezvous is aborting with status: OUT_OF_RANGE: End of sequence\n"
     ]
    },
    {
     "name": "stdout",
     "output_type": "stream",
     "text": [
      "r03c02ch3.tiff\n"
     ]
    },
    {
     "name": "stderr",
     "output_type": "stream",
     "text": [
      "2024-11-21 15:55:52.037762: W tensorflow/core/framework/local_rendezvous.cc:404] Local rendezvous is aborting with status: OUT_OF_RANGE: End of sequence\n"
     ]
    },
    {
     "name": "stdout",
     "output_type": "stream",
     "text": [
      "r03c03ch3.tiff\n"
     ]
    },
    {
     "name": "stderr",
     "output_type": "stream",
     "text": [
      "2024-11-21 15:56:18.205806: W tensorflow/core/framework/local_rendezvous.cc:404] Local rendezvous is aborting with status: OUT_OF_RANGE: End of sequence\n"
     ]
    },
    {
     "name": "stdout",
     "output_type": "stream",
     "text": [
      "r03c04ch3.tiff\n"
     ]
    },
    {
     "name": "stderr",
     "output_type": "stream",
     "text": [
      "2024-11-21 15:56:33.334590: W tensorflow/core/framework/local_rendezvous.cc:404] Local rendezvous is aborting with status: OUT_OF_RANGE: End of sequence\n"
     ]
    },
    {
     "name": "stdout",
     "output_type": "stream",
     "text": [
      "r03c05ch3.tiff\n"
     ]
    },
    {
     "name": "stderr",
     "output_type": "stream",
     "text": [
      "2024-11-21 15:57:04.492158: W tensorflow/core/framework/local_rendezvous.cc:404] Local rendezvous is aborting with status: OUT_OF_RANGE: End of sequence\n"
     ]
    },
    {
     "name": "stdout",
     "output_type": "stream",
     "text": [
      "r03c06ch3.tiff\n"
     ]
    },
    {
     "name": "stderr",
     "output_type": "stream",
     "text": [
      "2024-11-21 15:57:35.366430: W tensorflow/core/framework/local_rendezvous.cc:404] Local rendezvous is aborting with status: OUT_OF_RANGE: End of sequence\n"
     ]
    },
    {
     "name": "stdout",
     "output_type": "stream",
     "text": [
      "r03c07ch3.tiff\n"
     ]
    },
    {
     "name": "stderr",
     "output_type": "stream",
     "text": [
      "2024-11-21 15:57:38.466549: W tensorflow/core/framework/local_rendezvous.cc:404] Local rendezvous is aborting with status: OUT_OF_RANGE: End of sequence\n"
     ]
    },
    {
     "name": "stdout",
     "output_type": "stream",
     "text": [
      "r03c08ch3.tiff\n"
     ]
    },
    {
     "name": "stderr",
     "output_type": "stream",
     "text": [
      "2024-11-21 15:58:01.639240: W tensorflow/core/framework/local_rendezvous.cc:404] Local rendezvous is aborting with status: OUT_OF_RANGE: End of sequence\n"
     ]
    },
    {
     "name": "stdout",
     "output_type": "stream",
     "text": [
      "r03c09ch3.tiff\n"
     ]
    },
    {
     "name": "stderr",
     "output_type": "stream",
     "text": [
      "2024-11-21 15:58:17.537632: W tensorflow/core/framework/local_rendezvous.cc:404] Local rendezvous is aborting with status: OUT_OF_RANGE: End of sequence\n"
     ]
    },
    {
     "name": "stdout",
     "output_type": "stream",
     "text": [
      "r03c10ch3.tiff\n"
     ]
    },
    {
     "name": "stderr",
     "output_type": "stream",
     "text": [
      "2024-11-21 15:58:46.909746: W tensorflow/core/framework/local_rendezvous.cc:404] Local rendezvous is aborting with status: OUT_OF_RANGE: End of sequence\n"
     ]
    },
    {
     "name": "stdout",
     "output_type": "stream",
     "text": [
      "r03c11ch3.tiff\n"
     ]
    },
    {
     "name": "stderr",
     "output_type": "stream",
     "text": [
      "2024-11-21 15:58:50.228466: W tensorflow/core/framework/local_rendezvous.cc:404] Local rendezvous is aborting with status: OUT_OF_RANGE: End of sequence\n"
     ]
    },
    {
     "name": "stdout",
     "output_type": "stream",
     "text": [
      "r03c12ch3.tiff\n"
     ]
    }
   ],
   "source": [
    "# Example of preprocessing and extracting features\n",
    "def preprocess_image(image):\n",
    "    image = tf.image.resize(image, (50, 50))  # Resize to match model input\n",
    "    image = preprocess_input(image)  # Apply EfficientNetB0-specific preprocessing\n",
    "    return image\n",
    "\n",
    "#define the file paths for the images and corresponding masks\n",
    "image_path = '/4tbint/Corrected Merged FOVs/Set5/20200408_N7863__2020-04-08T10_57_43-Measurement 2'\n",
    "mask_path = '/4tbint/Cellpose Masks/Set5/20200408_N7863__2020-04-08T10_57_43-Measurement 2'\n",
    "\n",
    "#use the glob library to generate lists of image and mask filenames\n",
    "images =  sorted([os.path.basename(x) for x in glob.glob(image_path + '/*.tiff')])\n",
    "cellpose_mask = sorted([os.path.basename(x) for x in glob.glob(mask_path + '/*.tiff')])\n",
    "\n",
    "# \"mean_feature_list\" and \"j\" variables are initialized to empty list and 0, respectively to store the features for each image and to iterate over the list of masks.\n",
    "mean_fetaure_list =[]\n",
    "image_list = []\n",
    "j=0\n",
    "\n",
    "#loop with step size of 3 to iterate over a range of indices, pulling the filenames for three channels of each image.\n",
    "for i in range(0, 1152, 3):\n",
    "    \n",
    "    CH1_path = os.path.join(image_path, images[i])\n",
    "    CH2_path = os.path.join(image_path, images[i+2])\n",
    "    CH4_path = os.path.join(image_path, images[i+1])\n",
    "    \n",
    "    #read images and masks using the Image library, and converts them to numpy arrays.\n",
    "    ch1_img = Image.open(CH1_path)\n",
    "    ch2_img = Image.open(CH2_path)\n",
    "    ch4_img = Image.open(CH4_path)\n",
    "\n",
    "    ch1_img_arr = np.array(ch1_img)\n",
    "    ch2_img_arr = np.array(ch2_img)\n",
    "    ch4_img_arr = np.array(ch4_img)\n",
    "    \n",
    "\n",
    "    #use cellpose mask to extract individual cell regions,to generate 50x50 pixel images.\n",
    "    cellpose_path = os.path.join(mask_path, cellpose_mask[j])\n",
    "\n",
    "    cellpose_img = Image.open(cellpose_path)\n",
    "    cellpose_img_array = np.array(cellpose_img)\n",
    "    labels = label(cellpose_img_array)\n",
    "    regions = measure.regionprops(labels)\n",
    "\n",
    "    j=j+1\n",
    "    single_cell_bbox = []\n",
    "\n",
    "    for props in regions:\n",
    "        y0, x0 = props.centroid\n",
    "        y = int(round(y0))\n",
    "        x = int(round(x0))\n",
    "        box_ch1 = ch1_img_arr[x-25:x+25,y-25:y+25]\n",
    "        box_ch2 = ch2_img_arr[x-25:x+25,y-25:y+25]\n",
    "        box_ch4 = ch4_img_arr[x-25:x+25,y-25:y+25]\n",
    "\n",
    "        if (box_ch1.shape == (50,50)):\n",
    "            coordinate = x, y\n",
    "            \n",
    "            box_ch1 = (box_ch1.astype('float32')/ch1_q099)*255\n",
    "            box_ch2 = (box_ch2.astype('float32')/ch2_q099)*255\n",
    "            box_ch4 = (box_ch4.astype('float32')/ch4_q099)*255\n",
    "            \n",
    "            singlecell = np.stack((box_ch1, box_ch2, box_ch4), axis=-1)\n",
    "            reshaped_singlecell = singlecell.reshape((1,50,50,3))\n",
    "            single_cell_bbox.append(reshaped_singlecell)\n",
    "\n",
    "    single_cells = np.array(single_cell_bbox)\n",
    "\n",
    "    if len(single_cells) != 0:\n",
    "        \n",
    "        print(images[i+2])\n",
    "    \n",
    "        #convert single cell objects into a tensor using tf.data.Dataset.from_tensor_slices.\n",
    "        single_cell_tensor = tf.data.Dataset.from_tensor_slices(single_cells)\n",
    "\n",
    "        def extract_features(image):\n",
    "            preprocessed_image = preprocess_image(image)\n",
    "            features = feature_extraction_model(preprocessed_image)\n",
    "            return features\n",
    "\n",
    "        #A map operation is used to apply a feature extraction function, extract_features, to each cell image \n",
    "        #using a pre-trained model. This creates a feature_dataset of extracted features.\n",
    "        feature_dataset = single_cell_tensor.map(extract_features)\n",
    "\n",
    "        #features are summed across all cells, divided by the number of cells, and added to the mean_feature_list.\n",
    "        sum_feature_dataset = tf.zeros((1,1280))\n",
    "\n",
    "        for f in feature_dataset:\n",
    "            sum_feature_dataset += f\n",
    "\n",
    "        mean_feature = sum_feature_dataset/len(feature_dataset)\n",
    "\n",
    "        mean_fetaure_list.append(mean_feature)\n",
    "        image_list.append(images[i])"
   ]
  },
  {
   "cell_type": "code",
   "execution_count": null,
   "id": "363c46fe",
   "metadata": {},
   "outputs": [],
   "source": [
    "#Convert mean feature tensor array to numpy array\n",
    "feature_list = [tensor.numpy() for tensor in mean_fetaure_list]"
   ]
  },
  {
   "cell_type": "code",
   "execution_count": 9,
   "id": "7496e186",
   "metadata": {},
   "outputs": [
    {
     "name": "stdout",
     "output_type": "stream",
     "text": [
      "382\n",
      "382\n"
     ]
    }
   ],
   "source": [
    "print(len(feature_list))\n",
    "print(len(image_list))"
   ]
  },
  {
   "cell_type": "code",
   "execution_count": 10,
   "id": "7e110030",
   "metadata": {
    "scrolled": true
   },
   "outputs": [
    {
     "data": {
      "text/html": [
       "<div>\n",
       "<style scoped>\n",
       "    .dataframe tbody tr th:only-of-type {\n",
       "        vertical-align: middle;\n",
       "    }\n",
       "\n",
       "    .dataframe tbody tr th {\n",
       "        vertical-align: top;\n",
       "    }\n",
       "\n",
       "    .dataframe thead th {\n",
       "        text-align: right;\n",
       "    }\n",
       "</style>\n",
       "<table border=\"1\" class=\"dataframe\">\n",
       "  <thead>\n",
       "    <tr style=\"text-align: right;\">\n",
       "      <th></th>\n",
       "      <th>Image</th>\n",
       "      <th>feature1</th>\n",
       "      <th>feature2</th>\n",
       "      <th>feature3</th>\n",
       "      <th>feature4</th>\n",
       "      <th>feature5</th>\n",
       "      <th>feature6</th>\n",
       "      <th>feature7</th>\n",
       "      <th>feature8</th>\n",
       "      <th>feature9</th>\n",
       "      <th>...</th>\n",
       "      <th>feature1271</th>\n",
       "      <th>feature1272</th>\n",
       "      <th>feature1273</th>\n",
       "      <th>feature1274</th>\n",
       "      <th>feature1275</th>\n",
       "      <th>feature1276</th>\n",
       "      <th>feature1277</th>\n",
       "      <th>feature1278</th>\n",
       "      <th>feature1279</th>\n",
       "      <th>feature1280</th>\n",
       "    </tr>\n",
       "  </thead>\n",
       "  <tbody>\n",
       "    <tr>\n",
       "      <th>0</th>\n",
       "      <td>r01c01ch1.tiff</td>\n",
       "      <td>-0.326331</td>\n",
       "      <td>-0.249747</td>\n",
       "      <td>0.803696</td>\n",
       "      <td>0.932714</td>\n",
       "      <td>3.003610</td>\n",
       "      <td>1.319327</td>\n",
       "      <td>1.096321</td>\n",
       "      <td>0.693639</td>\n",
       "      <td>1.019925</td>\n",
       "      <td>...</td>\n",
       "      <td>-0.399666</td>\n",
       "      <td>1.646056</td>\n",
       "      <td>-1.003649</td>\n",
       "      <td>2.598372</td>\n",
       "      <td>-2.402919</td>\n",
       "      <td>2.224718</td>\n",
       "      <td>0.917154</td>\n",
       "      <td>-0.537331</td>\n",
       "      <td>0.876763</td>\n",
       "      <td>0.108833</td>\n",
       "    </tr>\n",
       "    <tr>\n",
       "      <th>1</th>\n",
       "      <td>r01c02ch1.tiff</td>\n",
       "      <td>-0.427253</td>\n",
       "      <td>-1.608012</td>\n",
       "      <td>0.193798</td>\n",
       "      <td>0.371952</td>\n",
       "      <td>1.913906</td>\n",
       "      <td>0.318760</td>\n",
       "      <td>0.319078</td>\n",
       "      <td>-0.580244</td>\n",
       "      <td>2.257953</td>\n",
       "      <td>...</td>\n",
       "      <td>-1.475396</td>\n",
       "      <td>0.693453</td>\n",
       "      <td>-0.979301</td>\n",
       "      <td>1.719249</td>\n",
       "      <td>-2.453255</td>\n",
       "      <td>2.873041</td>\n",
       "      <td>1.218501</td>\n",
       "      <td>0.285302</td>\n",
       "      <td>-0.120919</td>\n",
       "      <td>-0.727252</td>\n",
       "    </tr>\n",
       "    <tr>\n",
       "      <th>2</th>\n",
       "      <td>r01c03ch1.tiff</td>\n",
       "      <td>-0.202621</td>\n",
       "      <td>-0.242851</td>\n",
       "      <td>0.274222</td>\n",
       "      <td>0.369905</td>\n",
       "      <td>2.450461</td>\n",
       "      <td>1.065330</td>\n",
       "      <td>1.786448</td>\n",
       "      <td>0.366083</td>\n",
       "      <td>1.740010</td>\n",
       "      <td>...</td>\n",
       "      <td>-0.216927</td>\n",
       "      <td>1.587973</td>\n",
       "      <td>-0.812825</td>\n",
       "      <td>2.066200</td>\n",
       "      <td>-2.449465</td>\n",
       "      <td>2.290055</td>\n",
       "      <td>0.302557</td>\n",
       "      <td>-0.358150</td>\n",
       "      <td>0.783385</td>\n",
       "      <td>0.249795</td>\n",
       "    </tr>\n",
       "    <tr>\n",
       "      <th>3</th>\n",
       "      <td>r01c04ch1.tiff</td>\n",
       "      <td>-0.062942</td>\n",
       "      <td>-1.403147</td>\n",
       "      <td>0.576722</td>\n",
       "      <td>0.382180</td>\n",
       "      <td>1.963891</td>\n",
       "      <td>0.159910</td>\n",
       "      <td>0.418672</td>\n",
       "      <td>-0.388481</td>\n",
       "      <td>2.028390</td>\n",
       "      <td>...</td>\n",
       "      <td>-1.361755</td>\n",
       "      <td>0.766916</td>\n",
       "      <td>-0.935756</td>\n",
       "      <td>1.777401</td>\n",
       "      <td>-1.738962</td>\n",
       "      <td>2.830278</td>\n",
       "      <td>1.068198</td>\n",
       "      <td>0.172767</td>\n",
       "      <td>0.225356</td>\n",
       "      <td>-0.189269</td>\n",
       "    </tr>\n",
       "    <tr>\n",
       "      <th>4</th>\n",
       "      <td>r01c05ch1.tiff</td>\n",
       "      <td>0.006196</td>\n",
       "      <td>-1.751421</td>\n",
       "      <td>0.758767</td>\n",
       "      <td>0.798562</td>\n",
       "      <td>1.977720</td>\n",
       "      <td>-0.291776</td>\n",
       "      <td>1.008913</td>\n",
       "      <td>-0.945463</td>\n",
       "      <td>2.233450</td>\n",
       "      <td>...</td>\n",
       "      <td>-1.839867</td>\n",
       "      <td>-0.357430</td>\n",
       "      <td>-1.595761</td>\n",
       "      <td>2.148508</td>\n",
       "      <td>-2.047678</td>\n",
       "      <td>3.590540</td>\n",
       "      <td>1.190888</td>\n",
       "      <td>-0.295476</td>\n",
       "      <td>0.119775</td>\n",
       "      <td>-0.671449</td>\n",
       "    </tr>\n",
       "    <tr>\n",
       "      <th>...</th>\n",
       "      <td>...</td>\n",
       "      <td>...</td>\n",
       "      <td>...</td>\n",
       "      <td>...</td>\n",
       "      <td>...</td>\n",
       "      <td>...</td>\n",
       "      <td>...</td>\n",
       "      <td>...</td>\n",
       "      <td>...</td>\n",
       "      <td>...</td>\n",
       "      <td>...</td>\n",
       "      <td>...</td>\n",
       "      <td>...</td>\n",
       "      <td>...</td>\n",
       "      <td>...</td>\n",
       "      <td>...</td>\n",
       "      <td>...</td>\n",
       "      <td>...</td>\n",
       "      <td>...</td>\n",
       "      <td>...</td>\n",
       "      <td>...</td>\n",
       "    </tr>\n",
       "    <tr>\n",
       "      <th>377</th>\n",
       "      <td>r16c19ch1.tiff</td>\n",
       "      <td>-0.373001</td>\n",
       "      <td>-0.949434</td>\n",
       "      <td>0.444021</td>\n",
       "      <td>0.443753</td>\n",
       "      <td>2.269789</td>\n",
       "      <td>0.523914</td>\n",
       "      <td>0.706971</td>\n",
       "      <td>-0.035484</td>\n",
       "      <td>1.822780</td>\n",
       "      <td>...</td>\n",
       "      <td>-0.790623</td>\n",
       "      <td>1.145983</td>\n",
       "      <td>-0.757819</td>\n",
       "      <td>2.130203</td>\n",
       "      <td>-2.430788</td>\n",
       "      <td>2.717015</td>\n",
       "      <td>1.091516</td>\n",
       "      <td>0.104924</td>\n",
       "      <td>0.361756</td>\n",
       "      <td>-0.595484</td>\n",
       "    </tr>\n",
       "    <tr>\n",
       "      <th>378</th>\n",
       "      <td>r16c20ch1.tiff</td>\n",
       "      <td>-0.314785</td>\n",
       "      <td>-0.944300</td>\n",
       "      <td>0.317680</td>\n",
       "      <td>0.537033</td>\n",
       "      <td>2.184880</td>\n",
       "      <td>0.552374</td>\n",
       "      <td>0.925716</td>\n",
       "      <td>-0.019278</td>\n",
       "      <td>1.762107</td>\n",
       "      <td>...</td>\n",
       "      <td>-0.487176</td>\n",
       "      <td>1.404500</td>\n",
       "      <td>-0.730524</td>\n",
       "      <td>2.171973</td>\n",
       "      <td>-2.099144</td>\n",
       "      <td>2.634290</td>\n",
       "      <td>1.005984</td>\n",
       "      <td>-0.069599</td>\n",
       "      <td>0.441732</td>\n",
       "      <td>-0.325545</td>\n",
       "    </tr>\n",
       "    <tr>\n",
       "      <th>379</th>\n",
       "      <td>r16c21ch1.tiff</td>\n",
       "      <td>-0.487845</td>\n",
       "      <td>0.231393</td>\n",
       "      <td>0.833350</td>\n",
       "      <td>1.001417</td>\n",
       "      <td>3.412989</td>\n",
       "      <td>1.842001</td>\n",
       "      <td>1.853675</td>\n",
       "      <td>1.099116</td>\n",
       "      <td>0.703236</td>\n",
       "      <td>...</td>\n",
       "      <td>0.189063</td>\n",
       "      <td>1.933399</td>\n",
       "      <td>-0.840025</td>\n",
       "      <td>2.505893</td>\n",
       "      <td>-2.542350</td>\n",
       "      <td>2.089836</td>\n",
       "      <td>0.511435</td>\n",
       "      <td>-0.928876</td>\n",
       "      <td>0.991759</td>\n",
       "      <td>0.812149</td>\n",
       "    </tr>\n",
       "    <tr>\n",
       "      <th>380</th>\n",
       "      <td>r16c22ch1.tiff</td>\n",
       "      <td>-0.404531</td>\n",
       "      <td>0.208486</td>\n",
       "      <td>0.878521</td>\n",
       "      <td>0.979772</td>\n",
       "      <td>3.478022</td>\n",
       "      <td>1.696777</td>\n",
       "      <td>1.575049</td>\n",
       "      <td>1.144019</td>\n",
       "      <td>0.706331</td>\n",
       "      <td>...</td>\n",
       "      <td>0.136010</td>\n",
       "      <td>1.849847</td>\n",
       "      <td>-0.788650</td>\n",
       "      <td>2.623852</td>\n",
       "      <td>-2.328361</td>\n",
       "      <td>2.117637</td>\n",
       "      <td>0.740555</td>\n",
       "      <td>-0.849657</td>\n",
       "      <td>1.052107</td>\n",
       "      <td>0.789867</td>\n",
       "    </tr>\n",
       "    <tr>\n",
       "      <th>381</th>\n",
       "      <td>r16c23ch1.tiff</td>\n",
       "      <td>-0.783745</td>\n",
       "      <td>-0.290330</td>\n",
       "      <td>0.579284</td>\n",
       "      <td>0.857177</td>\n",
       "      <td>2.517378</td>\n",
       "      <td>1.069202</td>\n",
       "      <td>0.967705</td>\n",
       "      <td>0.747630</td>\n",
       "      <td>1.133958</td>\n",
       "      <td>...</td>\n",
       "      <td>-0.290481</td>\n",
       "      <td>1.886302</td>\n",
       "      <td>-0.712182</td>\n",
       "      <td>2.503287</td>\n",
       "      <td>-2.457989</td>\n",
       "      <td>2.227293</td>\n",
       "      <td>1.007531</td>\n",
       "      <td>-0.070112</td>\n",
       "      <td>0.940789</td>\n",
       "      <td>0.009907</td>\n",
       "    </tr>\n",
       "  </tbody>\n",
       "</table>\n",
       "<p>382 rows × 1281 columns</p>\n",
       "</div>"
      ],
      "text/plain": [
       "              Image  feature1  feature2  feature3  feature4  feature5  \\\n",
       "0    r01c01ch1.tiff -0.326331 -0.249747  0.803696  0.932714  3.003610   \n",
       "1    r01c02ch1.tiff -0.427253 -1.608012  0.193798  0.371952  1.913906   \n",
       "2    r01c03ch1.tiff -0.202621 -0.242851  0.274222  0.369905  2.450461   \n",
       "3    r01c04ch1.tiff -0.062942 -1.403147  0.576722  0.382180  1.963891   \n",
       "4    r01c05ch1.tiff  0.006196 -1.751421  0.758767  0.798562  1.977720   \n",
       "..              ...       ...       ...       ...       ...       ...   \n",
       "377  r16c19ch1.tiff -0.373001 -0.949434  0.444021  0.443753  2.269789   \n",
       "378  r16c20ch1.tiff -0.314785 -0.944300  0.317680  0.537033  2.184880   \n",
       "379  r16c21ch1.tiff -0.487845  0.231393  0.833350  1.001417  3.412989   \n",
       "380  r16c22ch1.tiff -0.404531  0.208486  0.878521  0.979772  3.478022   \n",
       "381  r16c23ch1.tiff -0.783745 -0.290330  0.579284  0.857177  2.517378   \n",
       "\n",
       "     feature6  feature7  feature8  feature9  ...  feature1271  feature1272  \\\n",
       "0    1.319327  1.096321  0.693639  1.019925  ...    -0.399666     1.646056   \n",
       "1    0.318760  0.319078 -0.580244  2.257953  ...    -1.475396     0.693453   \n",
       "2    1.065330  1.786448  0.366083  1.740010  ...    -0.216927     1.587973   \n",
       "3    0.159910  0.418672 -0.388481  2.028390  ...    -1.361755     0.766916   \n",
       "4   -0.291776  1.008913 -0.945463  2.233450  ...    -1.839867    -0.357430   \n",
       "..        ...       ...       ...       ...  ...          ...          ...   \n",
       "377  0.523914  0.706971 -0.035484  1.822780  ...    -0.790623     1.145983   \n",
       "378  0.552374  0.925716 -0.019278  1.762107  ...    -0.487176     1.404500   \n",
       "379  1.842001  1.853675  1.099116  0.703236  ...     0.189063     1.933399   \n",
       "380  1.696777  1.575049  1.144019  0.706331  ...     0.136010     1.849847   \n",
       "381  1.069202  0.967705  0.747630  1.133958  ...    -0.290481     1.886302   \n",
       "\n",
       "     feature1273  feature1274  feature1275  feature1276  feature1277  \\\n",
       "0      -1.003649     2.598372    -2.402919     2.224718     0.917154   \n",
       "1      -0.979301     1.719249    -2.453255     2.873041     1.218501   \n",
       "2      -0.812825     2.066200    -2.449465     2.290055     0.302557   \n",
       "3      -0.935756     1.777401    -1.738962     2.830278     1.068198   \n",
       "4      -1.595761     2.148508    -2.047678     3.590540     1.190888   \n",
       "..           ...          ...          ...          ...          ...   \n",
       "377    -0.757819     2.130203    -2.430788     2.717015     1.091516   \n",
       "378    -0.730524     2.171973    -2.099144     2.634290     1.005984   \n",
       "379    -0.840025     2.505893    -2.542350     2.089836     0.511435   \n",
       "380    -0.788650     2.623852    -2.328361     2.117637     0.740555   \n",
       "381    -0.712182     2.503287    -2.457989     2.227293     1.007531   \n",
       "\n",
       "     feature1278  feature1279  feature1280  \n",
       "0      -0.537331     0.876763     0.108833  \n",
       "1       0.285302    -0.120919    -0.727252  \n",
       "2      -0.358150     0.783385     0.249795  \n",
       "3       0.172767     0.225356    -0.189269  \n",
       "4      -0.295476     0.119775    -0.671449  \n",
       "..           ...          ...          ...  \n",
       "377     0.104924     0.361756    -0.595484  \n",
       "378    -0.069599     0.441732    -0.325545  \n",
       "379    -0.928876     0.991759     0.812149  \n",
       "380    -0.849657     1.052107     0.789867  \n",
       "381    -0.070112     0.940789     0.009907  \n",
       "\n",
       "[382 rows x 1281 columns]"
      ]
     },
     "execution_count": 10,
     "metadata": {},
     "output_type": "execute_result"
    }
   ],
   "source": [
    "# Create a 2D numpy array from the feature list\n",
    "feature_array = np.vstack(feature_list)\n",
    "\n",
    "# Create a DataFrame with column names\n",
    "df = pd.DataFrame(feature_array, columns=['feature{}'.format(i+1) for i in range(1280)])\n",
    "\n",
    "#add col to the beginning of the dataframe\n",
    "df.insert(0, 'Image', image_list)\n",
    "df"
   ]
  },
  {
   "cell_type": "code",
   "execution_count": null,
   "id": "255caf82",
   "metadata": {},
   "outputs": [],
   "source": [
    "#save dataframe as excel \n",
    "df.to_excel(\"/home/gauss/Desktop/Revised_Data_Features/Pretrained baseline EfficientNetB0 Bbox Size 50/MHB/Plate_7.xlsx\")\n"
   ]
  },
  {
   "cell_type": "code",
   "execution_count": null,
   "id": "fe746488",
   "metadata": {},
   "outputs": [],
   "source": []
  },
  {
   "cell_type": "code",
   "execution_count": null,
   "id": "be2d07b0-831d-4c35-9fc2-3571296e24ca",
   "metadata": {},
   "outputs": [],
   "source": []
  },
  {
   "cell_type": "code",
   "execution_count": null,
   "id": "6dd32d77-1ac6-4671-8d86-63666adedec4",
   "metadata": {},
   "outputs": [],
   "source": []
  }
 ],
 "metadata": {
  "kernelspec": {
   "display_name": "Python 3 (ipykernel)",
   "language": "python",
   "name": "python3"
  },
  "language_info": {
   "codemirror_mode": {
    "name": "ipython",
    "version": 3
   },
   "file_extension": ".py",
   "mimetype": "text/x-python",
   "name": "python",
   "nbconvert_exporter": "python",
   "pygments_lexer": "ipython3",
   "version": "3.12.3"
  }
 },
 "nbformat": 4,
 "nbformat_minor": 5
}
