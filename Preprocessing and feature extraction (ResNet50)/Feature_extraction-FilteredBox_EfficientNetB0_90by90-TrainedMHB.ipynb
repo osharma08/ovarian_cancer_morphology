{
 "cells": [
  {
   "cell_type": "markdown",
   "id": "optional-little",
   "metadata": {},
   "source": [
    "# 1. Load the libraries"
   ]
  },
  {
   "cell_type": "code",
   "execution_count": 1,
   "id": "virgin-stress",
   "metadata": {},
   "outputs": [
    {
     "name": "stderr",
     "output_type": "stream",
     "text": [
      "2024-11-25 21:11:11.402387: I tensorflow/core/platform/cpu_feature_guard.cc:210] This TensorFlow binary is optimized to use available CPU instructions in performance-critical operations.\n",
      "To enable the following instructions: AVX2 AVX512F FMA, in other operations, rebuild TensorFlow with the appropriate compiler flags.\n",
      "2024-11-25 21:11:12.411186: W tensorflow/compiler/tf2tensorrt/utils/py_utils.cc:38] TF-TRT Warning: Could not find TensorRT\n"
     ]
    }
   ],
   "source": [
    "import os\n",
    "os.environ[\"CUDA_DEVICE_ORDER\"] = \"PCI_BUS_ID\"\n",
    "os.environ[\"CUDA_VISIBLE_DEVICES\"] = \"1\"\n",
    "\n",
    "import cv2\n",
    "import glob\n",
    "import numpy as np\n",
    "import pandas as pd  \n",
    "from PIL import Image\n",
    "from skimage import measure\n",
    "from keras import backend as K\n",
    "import matplotlib.pyplot as plt\n",
    "import matplotlib.patches as mpatches\n",
    "import matplotlib.patches as patches\n",
    "import tensorflow as tf\n",
    "from skimage.measure import label, regionprops, regionprops_table\n",
    "from tensorflow.keras.applications import EfficientNetB0\n",
    "from tensorflow.keras.models import Model, Sequential\n",
    "from tensorflow.keras.layers import Flatten, Dense, GlobalAveragePooling2D, MaxPooling2D, AveragePooling2D\n",
    "from tensorflow import keras \n",
    "from tensorflow.keras import layers\n",
    "from tensorflow.keras.models import load_model\n",
    "from tensorflow.keras.applications.efficientnet import preprocess_input\n"
   ]
  },
  {
   "cell_type": "markdown",
   "id": "4b32114e",
   "metadata": {},
   "source": [
    "# 2. EfficientNetB0"
   ]
  },
  {
   "cell_type": "markdown",
   "id": "e5584b23",
   "metadata": {},
   "source": [
    "## 2.1 Read images and compute 99% quantile"
   ]
  },
  {
   "cell_type": "code",
   "execution_count": 2,
   "id": "d57ddb2c",
   "metadata": {},
   "outputs": [
    {
     "name": "stdout",
     "output_type": "stream",
     "text": [
      "Maximum intensity for channel 1: 65289\n",
      "Maximum intensity for channel 2: 65535\n",
      "Maximum intensity for channel 4: 64458\n",
      "Quantile_099 channel 1: 1959.0\n",
      "Quantile_099 channel 2: 2514.0\n",
      "Quantile_099 channel 4: 5185.0\n"
     ]
    }
   ],
   "source": [
    "#define the file paths for the images and corresponding masks\n",
    "image_path = '/4tbint/Corrected Merged FOVs/Set5/20200408_N7863__2020-04-08T10_57_43-Measurement 2'\n",
    "mask_path = '/4tbint/Cellpose Masks/Set5/20200408_N7863__2020-04-08T10_57_43-Measurement 2'\n",
    "\n",
    "#use the glob library to generate lists of image and mask filenames\n",
    "images =  sorted([os.path.basename(x) for x in glob.glob(image_path + '/*.tiff')])\n",
    "cellpose_mask = sorted([os.path.basename(x) for x in glob.glob(mask_path + '/*.tiff')])\n",
    "\n",
    "ch1 = [] #fibroblast\n",
    "ch2 = [] #cancer\n",
    "ch4 = [] #dapi\n",
    "\n",
    "for i in range(0, 1152, 3):\n",
    "    \n",
    "    CH1_path = os.path.join(image_path, images[i])\n",
    "    CH2_path = os.path.join(image_path, images[i+2]) #for MHB ch3 is cancer \n",
    "    CH4_path = os.path.join(image_path, images[i+1]) #for MHB ch2 is DAPI\n",
    "\n",
    "    #print(CH1_path)\n",
    "    #print(CH2_path)\n",
    "    #print(CH4_path)\n",
    "\n",
    "    #read images and masks using the Image library, and converts them to numpy arrays.\n",
    "    ch1_img = Image.open(CH1_path)\n",
    "    ch2_img = Image.open(CH2_path)\n",
    "    ch4_img = Image.open(CH4_path)\n",
    "\n",
    "    ch1.append(np.array(ch1_img))\n",
    "    ch2.append(np.array(ch2_img))\n",
    "    ch4.append(np.array(ch4_img))\n",
    "\n",
    "ch1_max = np.max(ch1)\n",
    "ch2_max = np.max(ch2)\n",
    "ch4_max = np.max(ch4)\n",
    "print(\"Maximum intensity for channel 1:\", ch1_max)\n",
    "print(\"Maximum intensity for channel 2:\", ch2_max)\n",
    "print(\"Maximum intensity for channel 4:\", ch4_max)\n",
    "\n",
    "ch1_q099 =  np.quantile(ch1, 0.99)\n",
    "ch2_q099 =  np.quantile(ch2, 0.99)\n",
    "ch4_q099 =  np.quantile(ch4, 0.99)\n",
    "print(\"Quantile_099 channel 1:\", ch1_q099)\n",
    "print(\"Quantile_099 channel 2:\", ch2_q099)\n",
    "print(\"Quantile_099 channel 4:\", ch4_q099)\n",
    "\n",
    "del ch1, ch2, ch4"
   ]
  },
  {
   "cell_type": "markdown",
   "id": "4c9d34af",
   "metadata": {},
   "source": [
    "## 2.2 Load the model and Read images as tensors and extract features"
   ]
  },
  {
   "cell_type": "code",
   "execution_count": null,
   "id": "2d94d5c8",
   "metadata": {
    "scrolled": true
   },
   "outputs": [
    {
     "name": "stdout",
     "output_type": "stream",
     "text": [
      "Num GPUs Available:  1\n",
      "Logical devices: [LogicalDevice(name='/device:CPU:0', device_type='CPU'), LogicalDevice(name='/device:GPU:0', device_type='GPU')]\n"
     ]
    },
    {
     "name": "stderr",
     "output_type": "stream",
     "text": [
      "2024-11-25 21:14:17.897835: I tensorflow/core/common_runtime/gpu/gpu_device.cc:1928] Created device /job:localhost/replica:0/task:0/device:GPU:0 with 9497 MB memory:  -> device: 0, name: NVIDIA GeForce RTX 2080 Ti, pci bus id: 0000:65:00.0, compute capability: 7.5\n"
     ]
    },
    {
     "name": "stdout",
     "output_type": "stream",
     "text": [
      "Model loaded successfully.\n",
      "INFO:tensorflow:Using MirroredStrategy with devices ('/job:localhost/replica:0/task:0/device:GPU:0',)\n",
      "Number of devices: 1\n",
      "r01c01ch3.tiff\n"
     ]
    },
    {
     "name": "stderr",
     "output_type": "stream",
     "text": [
      "/home/gauss/miniconda3/envs/tf24/lib/python3.12/site-packages/keras/src/models/functional.py:225: UserWarning: The structure of `inputs` doesn't match the expected structure: ['input_layer']. Received: the structure of inputs=*\n",
      "  warnings.warn(\n",
      "2024-11-25 21:14:55.176685: W tensorflow/core/framework/local_rendezvous.cc:404] Local rendezvous is aborting with status: OUT_OF_RANGE: End of sequence\n"
     ]
    },
    {
     "name": "stdout",
     "output_type": "stream",
     "text": [
      "r01c02ch3.tiff\n"
     ]
    },
    {
     "name": "stderr",
     "output_type": "stream",
     "text": [
      "2024-11-25 21:14:59.855720: W tensorflow/core/framework/local_rendezvous.cc:404] Local rendezvous is aborting with status: OUT_OF_RANGE: End of sequence\n"
     ]
    },
    {
     "name": "stdout",
     "output_type": "stream",
     "text": [
      "r01c03ch3.tiff\n"
     ]
    },
    {
     "name": "stderr",
     "output_type": "stream",
     "text": [
      "2024-11-25 21:15:21.196151: W tensorflow/core/framework/local_rendezvous.cc:404] Local rendezvous is aborting with status: OUT_OF_RANGE: End of sequence\n"
     ]
    },
    {
     "name": "stdout",
     "output_type": "stream",
     "text": [
      "r01c04ch3.tiff\n"
     ]
    },
    {
     "name": "stderr",
     "output_type": "stream",
     "text": [
      "2024-11-25 21:15:23.905628: W tensorflow/core/framework/local_rendezvous.cc:404] Local rendezvous is aborting with status: OUT_OF_RANGE: End of sequence\n"
     ]
    },
    {
     "name": "stdout",
     "output_type": "stream",
     "text": [
      "r01c05ch3.tiff\n"
     ]
    },
    {
     "name": "stderr",
     "output_type": "stream",
     "text": [
      "2024-11-25 21:15:26.172060: W tensorflow/core/framework/local_rendezvous.cc:404] Local rendezvous is aborting with status: OUT_OF_RANGE: End of sequence\n"
     ]
    },
    {
     "name": "stdout",
     "output_type": "stream",
     "text": [
      "r01c06ch3.tiff\n"
     ]
    },
    {
     "name": "stderr",
     "output_type": "stream",
     "text": [
      "2024-11-25 21:16:12.973438: W tensorflow/core/framework/local_rendezvous.cc:404] Local rendezvous is aborting with status: OUT_OF_RANGE: End of sequence\n"
     ]
    },
    {
     "name": "stdout",
     "output_type": "stream",
     "text": [
      "r01c07ch3.tiff\n"
     ]
    },
    {
     "name": "stderr",
     "output_type": "stream",
     "text": [
      "2024-11-25 21:16:14.988729: W tensorflow/core/framework/local_rendezvous.cc:404] Local rendezvous is aborting with status: OUT_OF_RANGE: End of sequence\n"
     ]
    },
    {
     "name": "stdout",
     "output_type": "stream",
     "text": [
      "r01c08ch3.tiff\n"
     ]
    },
    {
     "name": "stderr",
     "output_type": "stream",
     "text": [
      "2024-11-25 21:16:17.145026: W tensorflow/core/framework/local_rendezvous.cc:404] Local rendezvous is aborting with status: OUT_OF_RANGE: End of sequence\n"
     ]
    },
    {
     "name": "stdout",
     "output_type": "stream",
     "text": [
      "r01c09ch3.tiff\n"
     ]
    },
    {
     "name": "stderr",
     "output_type": "stream",
     "text": [
      "2024-11-25 21:16:19.565792: W tensorflow/core/framework/local_rendezvous.cc:404] Local rendezvous is aborting with status: OUT_OF_RANGE: End of sequence\n"
     ]
    },
    {
     "name": "stdout",
     "output_type": "stream",
     "text": [
      "r01c10ch3.tiff\n"
     ]
    },
    {
     "name": "stderr",
     "output_type": "stream",
     "text": [
      "2024-11-25 21:17:05.987066: W tensorflow/core/framework/local_rendezvous.cc:404] Local rendezvous is aborting with status: OUT_OF_RANGE: End of sequence\n"
     ]
    },
    {
     "name": "stdout",
     "output_type": "stream",
     "text": [
      "r01c11ch3.tiff\n"
     ]
    },
    {
     "name": "stderr",
     "output_type": "stream",
     "text": [
      "2024-11-25 21:17:08.397469: W tensorflow/core/framework/local_rendezvous.cc:404] Local rendezvous is aborting with status: OUT_OF_RANGE: End of sequence\n"
     ]
    },
    {
     "name": "stdout",
     "output_type": "stream",
     "text": [
      "r01c12ch3.tiff\n"
     ]
    },
    {
     "name": "stderr",
     "output_type": "stream",
     "text": [
      "2024-11-25 21:17:12.984573: W tensorflow/core/framework/local_rendezvous.cc:404] Local rendezvous is aborting with status: OUT_OF_RANGE: End of sequence\n"
     ]
    },
    {
     "name": "stdout",
     "output_type": "stream",
     "text": [
      "r01c13ch3.tiff\n"
     ]
    },
    {
     "name": "stderr",
     "output_type": "stream",
     "text": [
      "2024-11-25 21:17:43.599127: W tensorflow/core/framework/local_rendezvous.cc:404] Local rendezvous is aborting with status: OUT_OF_RANGE: End of sequence\n"
     ]
    },
    {
     "name": "stdout",
     "output_type": "stream",
     "text": [
      "r01c14ch3.tiff\n"
     ]
    },
    {
     "name": "stderr",
     "output_type": "stream",
     "text": [
      "2024-11-25 21:18:24.650481: W tensorflow/core/framework/local_rendezvous.cc:404] Local rendezvous is aborting with status: OUT_OF_RANGE: End of sequence\n"
     ]
    },
    {
     "name": "stdout",
     "output_type": "stream",
     "text": [
      "r01c15ch3.tiff\n"
     ]
    },
    {
     "name": "stderr",
     "output_type": "stream",
     "text": [
      "2024-11-25 21:19:10.404848: W tensorflow/core/framework/local_rendezvous.cc:404] Local rendezvous is aborting with status: OUT_OF_RANGE: End of sequence\n"
     ]
    },
    {
     "name": "stdout",
     "output_type": "stream",
     "text": [
      "r01c16ch3.tiff\n"
     ]
    },
    {
     "name": "stderr",
     "output_type": "stream",
     "text": [
      "2024-11-25 21:19:56.259352: W tensorflow/core/framework/local_rendezvous.cc:404] Local rendezvous is aborting with status: OUT_OF_RANGE: End of sequence\n"
     ]
    },
    {
     "name": "stdout",
     "output_type": "stream",
     "text": [
      "r01c17ch3.tiff\n"
     ]
    },
    {
     "name": "stderr",
     "output_type": "stream",
     "text": [
      "2024-11-25 21:20:02.158960: W tensorflow/core/framework/local_rendezvous.cc:404] Local rendezvous is aborting with status: OUT_OF_RANGE: End of sequence\n"
     ]
    },
    {
     "name": "stdout",
     "output_type": "stream",
     "text": [
      "r01c18ch3.tiff\n"
     ]
    },
    {
     "name": "stderr",
     "output_type": "stream",
     "text": [
      "2024-11-25 21:20:42.307372: W tensorflow/core/framework/local_rendezvous.cc:404] Local rendezvous is aborting with status: OUT_OF_RANGE: End of sequence\n"
     ]
    },
    {
     "name": "stdout",
     "output_type": "stream",
     "text": [
      "r01c19ch3.tiff\n"
     ]
    },
    {
     "name": "stderr",
     "output_type": "stream",
     "text": [
      "2024-11-25 21:21:19.219214: W tensorflow/core/framework/local_rendezvous.cc:404] Local rendezvous is aborting with status: OUT_OF_RANGE: End of sequence\n"
     ]
    },
    {
     "name": "stdout",
     "output_type": "stream",
     "text": [
      "r01c20ch3.tiff\n"
     ]
    },
    {
     "name": "stderr",
     "output_type": "stream",
     "text": [
      "2024-11-25 21:21:56.434138: W tensorflow/core/framework/local_rendezvous.cc:404] Local rendezvous is aborting with status: OUT_OF_RANGE: End of sequence\n"
     ]
    },
    {
     "name": "stdout",
     "output_type": "stream",
     "text": [
      "r01c21ch3.tiff\n"
     ]
    },
    {
     "name": "stderr",
     "output_type": "stream",
     "text": [
      "2024-11-25 21:22:18.253710: W tensorflow/core/framework/local_rendezvous.cc:404] Local rendezvous is aborting with status: OUT_OF_RANGE: End of sequence\n"
     ]
    },
    {
     "name": "stdout",
     "output_type": "stream",
     "text": [
      "r01c22ch3.tiff\n"
     ]
    },
    {
     "name": "stderr",
     "output_type": "stream",
     "text": [
      "2024-11-25 21:22:23.220745: W tensorflow/core/framework/local_rendezvous.cc:404] Local rendezvous is aborting with status: OUT_OF_RANGE: End of sequence\n"
     ]
    },
    {
     "name": "stdout",
     "output_type": "stream",
     "text": [
      "r01c23ch3.tiff\n"
     ]
    },
    {
     "name": "stderr",
     "output_type": "stream",
     "text": [
      "2024-11-25 21:22:25.521054: W tensorflow/core/framework/local_rendezvous.cc:404] Local rendezvous is aborting with status: OUT_OF_RANGE: End of sequence\n"
     ]
    },
    {
     "name": "stdout",
     "output_type": "stream",
     "text": [
      "r01c24ch3.tiff\n"
     ]
    },
    {
     "name": "stderr",
     "output_type": "stream",
     "text": [
      "2024-11-25 21:23:06.027747: W tensorflow/core/framework/local_rendezvous.cc:404] Local rendezvous is aborting with status: OUT_OF_RANGE: End of sequence\n"
     ]
    },
    {
     "name": "stdout",
     "output_type": "stream",
     "text": [
      "r02c01ch3.tiff\n"
     ]
    },
    {
     "name": "stderr",
     "output_type": "stream",
     "text": [
      "2024-11-25 21:23:48.352664: W tensorflow/core/framework/local_rendezvous.cc:404] Local rendezvous is aborting with status: OUT_OF_RANGE: End of sequence\n"
     ]
    },
    {
     "name": "stdout",
     "output_type": "stream",
     "text": [
      "r02c02ch3.tiff\n"
     ]
    },
    {
     "name": "stderr",
     "output_type": "stream",
     "text": [
      "2024-11-25 21:24:34.106511: W tensorflow/core/framework/local_rendezvous.cc:404] Local rendezvous is aborting with status: OUT_OF_RANGE: End of sequence\n"
     ]
    },
    {
     "name": "stdout",
     "output_type": "stream",
     "text": [
      "r02c03ch3.tiff\n"
     ]
    },
    {
     "name": "stderr",
     "output_type": "stream",
     "text": [
      "2024-11-25 21:25:06.512458: W tensorflow/core/framework/local_rendezvous.cc:404] Local rendezvous is aborting with status: OUT_OF_RANGE: End of sequence\n"
     ]
    },
    {
     "name": "stdout",
     "output_type": "stream",
     "text": [
      "r02c04ch3.tiff\n"
     ]
    },
    {
     "name": "stderr",
     "output_type": "stream",
     "text": [
      "2024-11-25 21:25:20.341831: W tensorflow/core/framework/local_rendezvous.cc:404] Local rendezvous is aborting with status: OUT_OF_RANGE: End of sequence\n"
     ]
    },
    {
     "name": "stdout",
     "output_type": "stream",
     "text": [
      "r02c05ch3.tiff\n"
     ]
    },
    {
     "name": "stderr",
     "output_type": "stream",
     "text": [
      "2024-11-25 21:25:36.917442: W tensorflow/core/framework/local_rendezvous.cc:404] Local rendezvous is aborting with status: OUT_OF_RANGE: End of sequence\n"
     ]
    },
    {
     "name": "stdout",
     "output_type": "stream",
     "text": [
      "r02c06ch3.tiff\n"
     ]
    },
    {
     "name": "stderr",
     "output_type": "stream",
     "text": [
      "2024-11-25 21:26:30.096826: W tensorflow/core/framework/local_rendezvous.cc:404] Local rendezvous is aborting with status: OUT_OF_RANGE: End of sequence\n"
     ]
    },
    {
     "name": "stdout",
     "output_type": "stream",
     "text": [
      "r02c08ch3.tiff\n"
     ]
    },
    {
     "name": "stderr",
     "output_type": "stream",
     "text": [
      "2024-11-25 21:26:33.385944: W tensorflow/core/framework/local_rendezvous.cc:404] Local rendezvous is aborting with status: OUT_OF_RANGE: End of sequence\n"
     ]
    },
    {
     "name": "stdout",
     "output_type": "stream",
     "text": [
      "r02c09ch3.tiff\n"
     ]
    },
    {
     "name": "stderr",
     "output_type": "stream",
     "text": [
      "2024-11-25 21:27:25.339291: W tensorflow/core/framework/local_rendezvous.cc:404] Local rendezvous is aborting with status: OUT_OF_RANGE: End of sequence\n"
     ]
    },
    {
     "name": "stdout",
     "output_type": "stream",
     "text": [
      "r02c10ch3.tiff\n"
     ]
    },
    {
     "name": "stderr",
     "output_type": "stream",
     "text": [
      "2024-11-25 21:28:14.801590: W tensorflow/core/framework/local_rendezvous.cc:404] Local rendezvous is aborting with status: OUT_OF_RANGE: End of sequence\n"
     ]
    },
    {
     "name": "stdout",
     "output_type": "stream",
     "text": [
      "r02c11ch3.tiff\n"
     ]
    },
    {
     "name": "stderr",
     "output_type": "stream",
     "text": [
      "2024-11-25 21:28:17.312132: W tensorflow/core/framework/local_rendezvous.cc:404] Local rendezvous is aborting with status: OUT_OF_RANGE: End of sequence\n"
     ]
    },
    {
     "name": "stdout",
     "output_type": "stream",
     "text": [
      "r02c12ch3.tiff\n"
     ]
    },
    {
     "name": "stderr",
     "output_type": "stream",
     "text": [
      "2024-11-25 21:28:59.660826: W tensorflow/core/framework/local_rendezvous.cc:404] Local rendezvous is aborting with status: OUT_OF_RANGE: End of sequence\n"
     ]
    },
    {
     "name": "stdout",
     "output_type": "stream",
     "text": [
      "r02c13ch3.tiff\n"
     ]
    },
    {
     "name": "stderr",
     "output_type": "stream",
     "text": [
      "2024-11-25 21:29:32.338824: W tensorflow/core/framework/local_rendezvous.cc:404] Local rendezvous is aborting with status: OUT_OF_RANGE: End of sequence\n"
     ]
    },
    {
     "name": "stdout",
     "output_type": "stream",
     "text": [
      "r02c14ch3.tiff\n"
     ]
    },
    {
     "name": "stderr",
     "output_type": "stream",
     "text": [
      "2024-11-25 21:30:13.116795: W tensorflow/core/framework/local_rendezvous.cc:404] Local rendezvous is aborting with status: OUT_OF_RANGE: End of sequence\n"
     ]
    },
    {
     "name": "stdout",
     "output_type": "stream",
     "text": [
      "r02c15ch3.tiff\n"
     ]
    },
    {
     "name": "stderr",
     "output_type": "stream",
     "text": [
      "2024-11-25 21:30:56.905786: W tensorflow/core/framework/local_rendezvous.cc:404] Local rendezvous is aborting with status: OUT_OF_RANGE: End of sequence\n"
     ]
    },
    {
     "name": "stdout",
     "output_type": "stream",
     "text": [
      "r02c16ch3.tiff\n"
     ]
    },
    {
     "name": "stderr",
     "output_type": "stream",
     "text": [
      "2024-11-25 21:30:58.921773: W tensorflow/core/framework/local_rendezvous.cc:404] Local rendezvous is aborting with status: OUT_OF_RANGE: End of sequence\n"
     ]
    },
    {
     "name": "stdout",
     "output_type": "stream",
     "text": [
      "r02c17ch3.tiff\n"
     ]
    },
    {
     "name": "stderr",
     "output_type": "stream",
     "text": [
      "2024-11-25 21:31:22.029450: W tensorflow/core/framework/local_rendezvous.cc:404] Local rendezvous is aborting with status: OUT_OF_RANGE: End of sequence\n"
     ]
    },
    {
     "name": "stdout",
     "output_type": "stream",
     "text": [
      "r02c18ch3.tiff\n"
     ]
    },
    {
     "name": "stderr",
     "output_type": "stream",
     "text": [
      "2024-11-25 21:32:25.482880: W tensorflow/core/framework/local_rendezvous.cc:404] Local rendezvous is aborting with status: OUT_OF_RANGE: End of sequence\n"
     ]
    },
    {
     "name": "stdout",
     "output_type": "stream",
     "text": [
      "r02c19ch3.tiff\n"
     ]
    },
    {
     "name": "stderr",
     "output_type": "stream",
     "text": [
      "2024-11-25 21:33:17.079144: W tensorflow/core/framework/local_rendezvous.cc:404] Local rendezvous is aborting with status: OUT_OF_RANGE: End of sequence\n"
     ]
    },
    {
     "name": "stdout",
     "output_type": "stream",
     "text": [
      "r02c20ch3.tiff\n"
     ]
    },
    {
     "name": "stderr",
     "output_type": "stream",
     "text": [
      "2024-11-25 21:34:09.440202: W tensorflow/core/framework/local_rendezvous.cc:404] Local rendezvous is aborting with status: OUT_OF_RANGE: End of sequence\n"
     ]
    },
    {
     "name": "stdout",
     "output_type": "stream",
     "text": [
      "r02c21ch3.tiff\n"
     ]
    },
    {
     "name": "stderr",
     "output_type": "stream",
     "text": [
      "2024-11-25 21:35:01.147600: W tensorflow/core/framework/local_rendezvous.cc:404] Local rendezvous is aborting with status: OUT_OF_RANGE: End of sequence\n"
     ]
    },
    {
     "name": "stdout",
     "output_type": "stream",
     "text": [
      "r02c22ch3.tiff\n"
     ]
    },
    {
     "name": "stderr",
     "output_type": "stream",
     "text": [
      "2024-11-25 21:35:29.380675: W tensorflow/core/framework/local_rendezvous.cc:404] Local rendezvous is aborting with status: OUT_OF_RANGE: End of sequence\n"
     ]
    },
    {
     "name": "stdout",
     "output_type": "stream",
     "text": [
      "r02c23ch3.tiff\n"
     ]
    },
    {
     "name": "stderr",
     "output_type": "stream",
     "text": [
      "2024-11-25 21:35:46.434278: W tensorflow/core/framework/local_rendezvous.cc:404] Local rendezvous is aborting with status: OUT_OF_RANGE: End of sequence\n"
     ]
    },
    {
     "name": "stdout",
     "output_type": "stream",
     "text": [
      "r02c24ch3.tiff\n"
     ]
    },
    {
     "name": "stderr",
     "output_type": "stream",
     "text": [
      "2024-11-25 21:36:27.046224: W tensorflow/core/framework/local_rendezvous.cc:404] Local rendezvous is aborting with status: OUT_OF_RANGE: End of sequence\n"
     ]
    },
    {
     "name": "stdout",
     "output_type": "stream",
     "text": [
      "r03c01ch3.tiff\n"
     ]
    },
    {
     "name": "stderr",
     "output_type": "stream",
     "text": [
      "2024-11-25 21:37:02.716113: W tensorflow/core/framework/local_rendezvous.cc:404] Local rendezvous is aborting with status: OUT_OF_RANGE: End of sequence\n"
     ]
    },
    {
     "name": "stdout",
     "output_type": "stream",
     "text": [
      "r03c02ch3.tiff\n"
     ]
    },
    {
     "name": "stderr",
     "output_type": "stream",
     "text": [
      "2024-11-25 21:37:58.776716: W tensorflow/core/framework/local_rendezvous.cc:404] Local rendezvous is aborting with status: OUT_OF_RANGE: End of sequence\n"
     ]
    },
    {
     "name": "stdout",
     "output_type": "stream",
     "text": [
      "r03c03ch3.tiff\n"
     ]
    }
   ],
   "source": [
    "import tensorflow as tf\n",
    "\n",
    "# Enable memory growth for GPUs\n",
    "gpus = tf.config.experimental.list_physical_devices('GPU')\n",
    "if gpus:\n",
    "    try:\n",
    "        for gpu in gpus:\n",
    "            tf.config.experimental.set_memory_growth(gpu, True)\n",
    "    except RuntimeError as e:\n",
    "        print(e)\n",
    "\n",
    "print(\"Num GPUs Available: \", len(tf.config.list_physical_devices('GPU')))\n",
    "print(\"Logical devices:\", tf.config.list_logical_devices())\n",
    "        \n",
    "with tf.device('/CPU:0'):\n",
    "    # Load without compiling\n",
    "    model = load_model('EfficientNetB0_trained_binary_MHB.h5',custom_objects={\n",
    "        'weighted_custom_loss': lambda y_true, y_pred: weighted_custom_loss(y_true, y_pred, class_weights_list)},\n",
    "    compile=False)  # Avoid attempting to compile with the custom loss\n",
    "    layer = model.get_layer(name=\"top_conv\").output\n",
    "    output = GlobalAveragePooling2D()(layer)\n",
    "    feature_extraction_model = Model(inputs=model.inputs, outputs=output)\n",
    "    print(\"Model loaded successfully.\")\n",
    "\n",
    "# Use MirroredStrategy to automatically distribute across GPUs 0 and 1\n",
    "strategy = tf.distribute.MirroredStrategy()\n",
    "print(f\"Number of devices: {strategy.num_replicas_in_sync}\")\n",
    "\n",
    "# All the code inside this scope will be distributed across both GPUs\n",
    "with strategy.scope():\n",
    "\n",
    "    @tf.function\n",
    "    # Example of preprocessing and extracting features\n",
    "    def preprocess_image(image):\n",
    "        image = preprocess_input(image)  # Apply EfficientNet-specific preprocessing\n",
    "        return image\n",
    "    @tf.function\n",
    "    def extract_features(image):\n",
    "        preprocessed_image = preprocess_image(image)\n",
    "        features = feature_extraction_model(preprocessed_image)\n",
    "        return features\n",
    "\n",
    "    #define the file paths for the images and corresponding masks\n",
    "    image_path = '/4tbint/Corrected Merged FOVs/Set5/20200408_N7863__2020-04-08T10_57_43-Measurement 2'\n",
    "    mask_path = '/4tbint/Cellpose Masks/Set5/20200408_N7863__2020-04-08T10_57_43-Measurement 2'\n",
    "\n",
    "    #use the glob library to generate lists of image and mask filenames\n",
    "    images =  sorted([os.path.basename(x) for x in glob.glob(image_path + '/*.tiff')])\n",
    "    cellpose_mask = sorted([os.path.basename(x) for x in glob.glob(mask_path + '/*.tiff')])\n",
    "\n",
    "    # \"mean_feature_list\" and \"j\" variables are initialized to empty list and 0, respectively to store the features for each image and to iterate over the list of masks.\n",
    "    mean_fetaure_list =[]\n",
    "    image_list = []\n",
    "    j=0\n",
    "\n",
    "    #loop with step size of 3 to iterate over a range of indices, pulling the filenames for three channels of each image.\n",
    "    for i in range(0, 1152, 3):\n",
    "\n",
    "        CH1_path = os.path.join(image_path, images[i]) #fibroblast\n",
    "        CH2_path = os.path.join(image_path, images[i+2]) #cancer\n",
    "        CH4_path = os.path.join(image_path, images[i+1]) #dapi\n",
    "        \n",
    "        #read images and masks using the Image library, and converts them to numpy arrays.\n",
    "        ch1_img = Image.open(CH1_path)\n",
    "        ch2_img = Image.open(CH2_path)\n",
    "        ch4_img = Image.open(CH4_path)\n",
    "\n",
    "        image_array_ch1 = np.array(ch1_img)\n",
    "        image_array_ch2 = np.array(ch2_img)\n",
    "        image_array_ch4 = np.array(ch4_img)\n",
    "\n",
    "        #use cellpose mask to extract individual cell regions,to generate 50x50 pixel images.\n",
    "        cellpose_path = os.path.join(mask_path, cellpose_mask[j])\n",
    "        cellpose_img = Image.open(cellpose_path)\n",
    "        masks_ch2 = np.array(cellpose_img)\n",
    "        labels_ch2 = label(masks_ch2)\n",
    "        props = regionprops(labels_ch2)\n",
    "\n",
    "        j=j+1\n",
    "        single_cell_bbox = []\n",
    "\n",
    "        for cell_label, target_region in enumerate(props, start=1):\n",
    "            centroid_row, centroid_col = target_region.centroid\n",
    "\n",
    "            half_size = 45\n",
    "            min_row = int(max(centroid_row - half_size, 0))\n",
    "            max_row = int(min(centroid_row + half_size, image_array_ch2.shape[0]))\n",
    "            min_col = int(max(centroid_col - half_size, 0))\n",
    "            max_col = int(min(centroid_col + half_size, image_array_ch2.shape[1]))\n",
    "\n",
    "            if (min_row > 0 and max_row < image_array_ch2.shape[0] and \n",
    "            min_col > 0 and max_col < image_array_ch2.shape[1]):\n",
    "\n",
    "                target_cell_mask = labels_ch2 == cell_label\n",
    "\n",
    "                cell_area_original = np.where(target_cell_mask[min_row:max_row, min_col:max_col], image_array_ch2[min_row:max_row, min_col:max_col], 0)\n",
    "\n",
    "                empty_array_ch2 = np.zeros((90, 90))\n",
    "                paste_row_original = (90 - cell_area_original.shape[0]) // 2\n",
    "                paste_col_original = (90 - cell_area_original.shape[1]) // 2\n",
    "\n",
    "                empty_array_ch2[paste_row_original:paste_row_original+cell_area_original.shape[0], paste_col_original:paste_col_original+cell_area_original.shape[1]] = cell_area_original\n",
    "\n",
    "                empty_array_cellpose = np.zeros((90, 90))\n",
    "                cell_area_cellpose = target_cell_mask[min_row:max_row, min_col:max_col]\n",
    "\n",
    "                paste_row_cellpose = (90 - cell_area_cellpose.shape[0]) // 2\n",
    "                paste_col_cellpose = (90 - cell_area_cellpose.shape[1]) // 2\n",
    "\n",
    "                empty_array_cellpose[paste_row_cellpose:paste_row_cellpose+cell_area_cellpose.shape[0], paste_col_cellpose:paste_col_cellpose+cell_area_cellpose.shape[1]] = cell_area_cellpose\n",
    "\n",
    "                cell_area_ch1 = np.where(target_cell_mask[min_row:max_row, min_col:max_col], image_array_ch1[min_row:max_row, min_col:max_col], 0)\n",
    "                cell_area_ch4 = np.where(target_cell_mask[min_row:max_row, min_col:max_col], image_array_ch4[min_row:max_row, min_col:max_col], 0)\n",
    "\n",
    "                empty_array_ch1 = np.zeros((90, 90))\n",
    "                paste_row_ch1 = (90 - cell_area_ch1.shape[0]) // 2\n",
    "                paste_col_ch1 = (90 - cell_area_ch1.shape[1]) // 2\n",
    "\n",
    "                empty_array_ch4 = np.zeros((90, 90))\n",
    "                paste_row_ch4 = (90 - cell_area_ch4.shape[0]) // 2\n",
    "                paste_col_ch4 = (90 - cell_area_ch4.shape[1]) // 2\n",
    "\n",
    "                empty_array_ch1[paste_row_ch1:paste_row_ch1+cell_area_ch1.shape[0], paste_col_ch1:paste_col_ch1+cell_area_ch1.shape[1]] = cell_area_ch1\n",
    "                empty_array_ch4[paste_row_ch4:paste_row_ch4+cell_area_ch4.shape[0], paste_col_ch4:paste_col_ch4+cell_area_ch4.shape[1]] = cell_area_ch4\n",
    "\n",
    "                empty_array_ch1 = (empty_array_ch1.astype('float32')/ch1_q099)*255\n",
    "                empty_array_ch2 = (empty_array_ch2.astype('float32')/ch2_q099)*255\n",
    "                empty_array_ch4 = (empty_array_ch4.astype('float32')/ch4_q099)*255\n",
    "\n",
    "                singlecell = np.stack((empty_array_ch2, empty_array_ch1, empty_array_ch4), axis=-1)\n",
    "                reshaped_singlecell = singlecell.reshape((1,90,90,3))\n",
    "                single_cell_bbox.append(reshaped_singlecell)\n",
    "                #print(np.max(empty_array_ch1))\n",
    "\n",
    "        single_cells = np.array(single_cell_bbox)\n",
    "\n",
    "        if len(single_cells) != 0:\n",
    "\n",
    "            print(images[i+2])\n",
    "\n",
    "            #convert single cell objects into a tensor using tf.data.Dataset.from_tensor_slices.\n",
    "            single_cell_tensor = tf.data.Dataset.from_tensor_slices(single_cells)\n",
    "\n",
    "            #A map operation is used to apply a feature extraction function, extract_features, to each cell image \n",
    "            #using a pre-trained model. This creates a feature_dataset of extracted features.\n",
    "            feature_dataset = single_cell_tensor.map(extract_features)\n",
    "\n",
    "            #features are summed across all cells, divided by the number of cells, and added to the mean_feature_list.\n",
    "            sum_feature_dataset = tf.zeros((1,1280))\n",
    "\n",
    "            for f in feature_dataset:\n",
    "                sum_feature_dataset += f\n",
    "\n",
    "            mean_feature = sum_feature_dataset/len(feature_dataset)\n",
    "\n",
    "            mean_fetaure_list.append(mean_feature)\n",
    "            image_list.append(images[i])\n",
    "        tf.keras.backend.clear_session()\n"
   ]
  },
  {
   "cell_type": "code",
   "execution_count": 4,
   "id": "363c46fe",
   "metadata": {},
   "outputs": [],
   "source": [
    "#Convert mean feature tensor array to numpy array\n",
    "feature_list = [tensor.numpy() for tensor in mean_fetaure_list]\n",
    "#image_num_list = [tensor.numpy() for tensor in image_list]"
   ]
  },
  {
   "cell_type": "code",
   "execution_count": 5,
   "id": "7496e186",
   "metadata": {},
   "outputs": [
    {
     "name": "stdout",
     "output_type": "stream",
     "text": [
      "382\n",
      "382\n"
     ]
    }
   ],
   "source": [
    "print(len(feature_list))\n",
    "print(len(image_list))"
   ]
  },
  {
   "cell_type": "code",
   "execution_count": 6,
   "id": "7e110030",
   "metadata": {
    "scrolled": true
   },
   "outputs": [
    {
     "data": {
      "text/html": [
       "<div>\n",
       "<style scoped>\n",
       "    .dataframe tbody tr th:only-of-type {\n",
       "        vertical-align: middle;\n",
       "    }\n",
       "\n",
       "    .dataframe tbody tr th {\n",
       "        vertical-align: top;\n",
       "    }\n",
       "\n",
       "    .dataframe thead th {\n",
       "        text-align: right;\n",
       "    }\n",
       "</style>\n",
       "<table border=\"1\" class=\"dataframe\">\n",
       "  <thead>\n",
       "    <tr style=\"text-align: right;\">\n",
       "      <th></th>\n",
       "      <th>Image</th>\n",
       "      <th>feature1</th>\n",
       "      <th>feature2</th>\n",
       "      <th>feature3</th>\n",
       "      <th>feature4</th>\n",
       "      <th>feature5</th>\n",
       "      <th>feature6</th>\n",
       "      <th>feature7</th>\n",
       "      <th>feature8</th>\n",
       "      <th>feature9</th>\n",
       "      <th>...</th>\n",
       "      <th>feature1271</th>\n",
       "      <th>feature1272</th>\n",
       "      <th>feature1273</th>\n",
       "      <th>feature1274</th>\n",
       "      <th>feature1275</th>\n",
       "      <th>feature1276</th>\n",
       "      <th>feature1277</th>\n",
       "      <th>feature1278</th>\n",
       "      <th>feature1279</th>\n",
       "      <th>feature1280</th>\n",
       "    </tr>\n",
       "  </thead>\n",
       "  <tbody>\n",
       "    <tr>\n",
       "      <th>0</th>\n",
       "      <td>r01c01ch1.tiff</td>\n",
       "      <td>-0.156932</td>\n",
       "      <td>0.406315</td>\n",
       "      <td>0.479556</td>\n",
       "      <td>-0.127781</td>\n",
       "      <td>-0.238550</td>\n",
       "      <td>-0.029096</td>\n",
       "      <td>-1.042283</td>\n",
       "      <td>0.503369</td>\n",
       "      <td>0.131065</td>\n",
       "      <td>...</td>\n",
       "      <td>-0.118518</td>\n",
       "      <td>0.141696</td>\n",
       "      <td>-0.192464</td>\n",
       "      <td>-0.123244</td>\n",
       "      <td>-0.263600</td>\n",
       "      <td>0.263082</td>\n",
       "      <td>-0.026829</td>\n",
       "      <td>-0.039631</td>\n",
       "      <td>-0.208149</td>\n",
       "      <td>-0.531510</td>\n",
       "    </tr>\n",
       "    <tr>\n",
       "      <th>1</th>\n",
       "      <td>r01c02ch1.tiff</td>\n",
       "      <td>-384.319855</td>\n",
       "      <td>-167.104294</td>\n",
       "      <td>-162.832565</td>\n",
       "      <td>-230.087662</td>\n",
       "      <td>-116.051941</td>\n",
       "      <td>-183.863556</td>\n",
       "      <td>-68.902000</td>\n",
       "      <td>-63.831264</td>\n",
       "      <td>-182.192947</td>\n",
       "      <td>...</td>\n",
       "      <td>-49.533752</td>\n",
       "      <td>-246.366348</td>\n",
       "      <td>-242.720932</td>\n",
       "      <td>13.577159</td>\n",
       "      <td>-255.391174</td>\n",
       "      <td>-30.350407</td>\n",
       "      <td>-243.375519</td>\n",
       "      <td>-255.174088</td>\n",
       "      <td>-298.824554</td>\n",
       "      <td>-1.556125</td>\n",
       "    </tr>\n",
       "    <tr>\n",
       "      <th>2</th>\n",
       "      <td>r01c03ch1.tiff</td>\n",
       "      <td>-2.326598</td>\n",
       "      <td>-1.713534</td>\n",
       "      <td>-0.480358</td>\n",
       "      <td>-0.973820</td>\n",
       "      <td>-1.659741</td>\n",
       "      <td>-0.527622</td>\n",
       "      <td>0.275194</td>\n",
       "      <td>-0.901111</td>\n",
       "      <td>-1.605661</td>\n",
       "      <td>...</td>\n",
       "      <td>-0.011723</td>\n",
       "      <td>-1.361084</td>\n",
       "      <td>-1.212016</td>\n",
       "      <td>-2.048548</td>\n",
       "      <td>-1.486497</td>\n",
       "      <td>-0.820374</td>\n",
       "      <td>-1.568422</td>\n",
       "      <td>-1.699228</td>\n",
       "      <td>-0.880083</td>\n",
       "      <td>1.357205</td>\n",
       "    </tr>\n",
       "    <tr>\n",
       "      <th>3</th>\n",
       "      <td>r01c04ch1.tiff</td>\n",
       "      <td>-1390.276611</td>\n",
       "      <td>-813.809509</td>\n",
       "      <td>-715.723633</td>\n",
       "      <td>-655.076416</td>\n",
       "      <td>-370.633240</td>\n",
       "      <td>-631.082275</td>\n",
       "      <td>239.501282</td>\n",
       "      <td>166.580414</td>\n",
       "      <td>-987.246216</td>\n",
       "      <td>...</td>\n",
       "      <td>334.923035</td>\n",
       "      <td>-831.624634</td>\n",
       "      <td>-851.755127</td>\n",
       "      <td>-84.618210</td>\n",
       "      <td>-996.564453</td>\n",
       "      <td>23.368824</td>\n",
       "      <td>-747.145935</td>\n",
       "      <td>-711.301453</td>\n",
       "      <td>-946.472107</td>\n",
       "      <td>689.211609</td>\n",
       "    </tr>\n",
       "    <tr>\n",
       "      <th>4</th>\n",
       "      <td>r01c05ch1.tiff</td>\n",
       "      <td>-9.103563</td>\n",
       "      <td>-4.001575</td>\n",
       "      <td>-3.444406</td>\n",
       "      <td>-1.096466</td>\n",
       "      <td>-3.268322</td>\n",
       "      <td>-0.743657</td>\n",
       "      <td>-1.376633</td>\n",
       "      <td>-1.651832</td>\n",
       "      <td>-4.822877</td>\n",
       "      <td>...</td>\n",
       "      <td>-2.766373</td>\n",
       "      <td>-2.866422</td>\n",
       "      <td>-6.959863</td>\n",
       "      <td>-3.470457</td>\n",
       "      <td>-7.867973</td>\n",
       "      <td>-1.809522</td>\n",
       "      <td>-12.412378</td>\n",
       "      <td>-4.251513</td>\n",
       "      <td>-4.847603</td>\n",
       "      <td>4.519289</td>\n",
       "    </tr>\n",
       "    <tr>\n",
       "      <th>...</th>\n",
       "      <td>...</td>\n",
       "      <td>...</td>\n",
       "      <td>...</td>\n",
       "      <td>...</td>\n",
       "      <td>...</td>\n",
       "      <td>...</td>\n",
       "      <td>...</td>\n",
       "      <td>...</td>\n",
       "      <td>...</td>\n",
       "      <td>...</td>\n",
       "      <td>...</td>\n",
       "      <td>...</td>\n",
       "      <td>...</td>\n",
       "      <td>...</td>\n",
       "      <td>...</td>\n",
       "      <td>...</td>\n",
       "      <td>...</td>\n",
       "      <td>...</td>\n",
       "      <td>...</td>\n",
       "      <td>...</td>\n",
       "      <td>...</td>\n",
       "    </tr>\n",
       "    <tr>\n",
       "      <th>377</th>\n",
       "      <td>r16c19ch1.tiff</td>\n",
       "      <td>-2.291248</td>\n",
       "      <td>-1.191285</td>\n",
       "      <td>-0.024314</td>\n",
       "      <td>-2.583364</td>\n",
       "      <td>-3.373387</td>\n",
       "      <td>1.242514</td>\n",
       "      <td>-2.081488</td>\n",
       "      <td>-2.550482</td>\n",
       "      <td>-0.979944</td>\n",
       "      <td>...</td>\n",
       "      <td>-2.406532</td>\n",
       "      <td>-0.839835</td>\n",
       "      <td>-3.000430</td>\n",
       "      <td>-2.488299</td>\n",
       "      <td>-1.837697</td>\n",
       "      <td>-0.514891</td>\n",
       "      <td>-1.209329</td>\n",
       "      <td>-2.406834</td>\n",
       "      <td>-2.094499</td>\n",
       "      <td>-0.864419</td>\n",
       "    </tr>\n",
       "    <tr>\n",
       "      <th>378</th>\n",
       "      <td>r16c20ch1.tiff</td>\n",
       "      <td>-2.727712</td>\n",
       "      <td>-1.504931</td>\n",
       "      <td>-0.752008</td>\n",
       "      <td>-1.955680</td>\n",
       "      <td>-3.429655</td>\n",
       "      <td>1.026136</td>\n",
       "      <td>-1.410741</td>\n",
       "      <td>-1.267528</td>\n",
       "      <td>-1.444027</td>\n",
       "      <td>...</td>\n",
       "      <td>-2.592435</td>\n",
       "      <td>0.950363</td>\n",
       "      <td>-4.311350</td>\n",
       "      <td>-2.992813</td>\n",
       "      <td>-1.955892</td>\n",
       "      <td>-1.021201</td>\n",
       "      <td>-3.674469</td>\n",
       "      <td>-2.730391</td>\n",
       "      <td>-1.664218</td>\n",
       "      <td>1.391630</td>\n",
       "    </tr>\n",
       "    <tr>\n",
       "      <th>379</th>\n",
       "      <td>r16c21ch1.tiff</td>\n",
       "      <td>-1.549038</td>\n",
       "      <td>-0.508664</td>\n",
       "      <td>0.113321</td>\n",
       "      <td>-0.097479</td>\n",
       "      <td>-0.268248</td>\n",
       "      <td>-0.915819</td>\n",
       "      <td>-0.319843</td>\n",
       "      <td>0.604744</td>\n",
       "      <td>-0.527016</td>\n",
       "      <td>...</td>\n",
       "      <td>0.212185</td>\n",
       "      <td>-0.301198</td>\n",
       "      <td>-0.664778</td>\n",
       "      <td>-0.712825</td>\n",
       "      <td>-0.951846</td>\n",
       "      <td>-0.138611</td>\n",
       "      <td>-1.554838</td>\n",
       "      <td>-0.596454</td>\n",
       "      <td>-0.507400</td>\n",
       "      <td>0.383457</td>\n",
       "    </tr>\n",
       "    <tr>\n",
       "      <th>380</th>\n",
       "      <td>r16c22ch1.tiff</td>\n",
       "      <td>-4.028339</td>\n",
       "      <td>-0.395548</td>\n",
       "      <td>-1.167377</td>\n",
       "      <td>-1.407940</td>\n",
       "      <td>-1.568033</td>\n",
       "      <td>-0.934745</td>\n",
       "      <td>-1.292695</td>\n",
       "      <td>0.108526</td>\n",
       "      <td>-1.378940</td>\n",
       "      <td>...</td>\n",
       "      <td>-0.264225</td>\n",
       "      <td>-1.280345</td>\n",
       "      <td>-2.234407</td>\n",
       "      <td>-0.178675</td>\n",
       "      <td>-3.080866</td>\n",
       "      <td>0.340836</td>\n",
       "      <td>-2.359699</td>\n",
       "      <td>-2.490536</td>\n",
       "      <td>-1.906216</td>\n",
       "      <td>1.176826</td>\n",
       "    </tr>\n",
       "    <tr>\n",
       "      <th>381</th>\n",
       "      <td>r16c23ch1.tiff</td>\n",
       "      <td>-0.453991</td>\n",
       "      <td>-0.158152</td>\n",
       "      <td>0.413179</td>\n",
       "      <td>0.039261</td>\n",
       "      <td>-0.445913</td>\n",
       "      <td>-0.090587</td>\n",
       "      <td>-1.069036</td>\n",
       "      <td>-0.225368</td>\n",
       "      <td>0.243909</td>\n",
       "      <td>...</td>\n",
       "      <td>0.129539</td>\n",
       "      <td>-0.166179</td>\n",
       "      <td>-0.243962</td>\n",
       "      <td>-0.795382</td>\n",
       "      <td>-0.151458</td>\n",
       "      <td>-0.318827</td>\n",
       "      <td>0.297029</td>\n",
       "      <td>-0.314352</td>\n",
       "      <td>-0.086703</td>\n",
       "      <td>-0.676444</td>\n",
       "    </tr>\n",
       "  </tbody>\n",
       "</table>\n",
       "<p>382 rows × 1281 columns</p>\n",
       "</div>"
      ],
      "text/plain": [
       "              Image     feature1    feature2    feature3    feature4  \\\n",
       "0    r01c01ch1.tiff    -0.156932    0.406315    0.479556   -0.127781   \n",
       "1    r01c02ch1.tiff  -384.319855 -167.104294 -162.832565 -230.087662   \n",
       "2    r01c03ch1.tiff    -2.326598   -1.713534   -0.480358   -0.973820   \n",
       "3    r01c04ch1.tiff -1390.276611 -813.809509 -715.723633 -655.076416   \n",
       "4    r01c05ch1.tiff    -9.103563   -4.001575   -3.444406   -1.096466   \n",
       "..              ...          ...         ...         ...         ...   \n",
       "377  r16c19ch1.tiff    -2.291248   -1.191285   -0.024314   -2.583364   \n",
       "378  r16c20ch1.tiff    -2.727712   -1.504931   -0.752008   -1.955680   \n",
       "379  r16c21ch1.tiff    -1.549038   -0.508664    0.113321   -0.097479   \n",
       "380  r16c22ch1.tiff    -4.028339   -0.395548   -1.167377   -1.407940   \n",
       "381  r16c23ch1.tiff    -0.453991   -0.158152    0.413179    0.039261   \n",
       "\n",
       "       feature5    feature6    feature7    feature8    feature9  ...  \\\n",
       "0     -0.238550   -0.029096   -1.042283    0.503369    0.131065  ...   \n",
       "1   -116.051941 -183.863556  -68.902000  -63.831264 -182.192947  ...   \n",
       "2     -1.659741   -0.527622    0.275194   -0.901111   -1.605661  ...   \n",
       "3   -370.633240 -631.082275  239.501282  166.580414 -987.246216  ...   \n",
       "4     -3.268322   -0.743657   -1.376633   -1.651832   -4.822877  ...   \n",
       "..          ...         ...         ...         ...         ...  ...   \n",
       "377   -3.373387    1.242514   -2.081488   -2.550482   -0.979944  ...   \n",
       "378   -3.429655    1.026136   -1.410741   -1.267528   -1.444027  ...   \n",
       "379   -0.268248   -0.915819   -0.319843    0.604744   -0.527016  ...   \n",
       "380   -1.568033   -0.934745   -1.292695    0.108526   -1.378940  ...   \n",
       "381   -0.445913   -0.090587   -1.069036   -0.225368    0.243909  ...   \n",
       "\n",
       "     feature1271  feature1272  feature1273  feature1274  feature1275  \\\n",
       "0      -0.118518     0.141696    -0.192464    -0.123244    -0.263600   \n",
       "1     -49.533752  -246.366348  -242.720932    13.577159  -255.391174   \n",
       "2      -0.011723    -1.361084    -1.212016    -2.048548    -1.486497   \n",
       "3     334.923035  -831.624634  -851.755127   -84.618210  -996.564453   \n",
       "4      -2.766373    -2.866422    -6.959863    -3.470457    -7.867973   \n",
       "..           ...          ...          ...          ...          ...   \n",
       "377    -2.406532    -0.839835    -3.000430    -2.488299    -1.837697   \n",
       "378    -2.592435     0.950363    -4.311350    -2.992813    -1.955892   \n",
       "379     0.212185    -0.301198    -0.664778    -0.712825    -0.951846   \n",
       "380    -0.264225    -1.280345    -2.234407    -0.178675    -3.080866   \n",
       "381     0.129539    -0.166179    -0.243962    -0.795382    -0.151458   \n",
       "\n",
       "     feature1276  feature1277  feature1278  feature1279  feature1280  \n",
       "0       0.263082    -0.026829    -0.039631    -0.208149    -0.531510  \n",
       "1     -30.350407  -243.375519  -255.174088  -298.824554    -1.556125  \n",
       "2      -0.820374    -1.568422    -1.699228    -0.880083     1.357205  \n",
       "3      23.368824  -747.145935  -711.301453  -946.472107   689.211609  \n",
       "4      -1.809522   -12.412378    -4.251513    -4.847603     4.519289  \n",
       "..           ...          ...          ...          ...          ...  \n",
       "377    -0.514891    -1.209329    -2.406834    -2.094499    -0.864419  \n",
       "378    -1.021201    -3.674469    -2.730391    -1.664218     1.391630  \n",
       "379    -0.138611    -1.554838    -0.596454    -0.507400     0.383457  \n",
       "380     0.340836    -2.359699    -2.490536    -1.906216     1.176826  \n",
       "381    -0.318827     0.297029    -0.314352    -0.086703    -0.676444  \n",
       "\n",
       "[382 rows x 1281 columns]"
      ]
     },
     "execution_count": 6,
     "metadata": {},
     "output_type": "execute_result"
    }
   ],
   "source": [
    "# Create a 2D numpy array from the feature list\n",
    "feature_array = np.vstack(feature_list)\n",
    "\n",
    "# Create a DataFrame with column names\n",
    "df = pd.DataFrame(feature_array, columns=['feature{}'.format(i+1) for i in range(1280)])\n",
    "\n",
    "# Add the image numbers as a column at the beginning of the DataFrame\n",
    "df.insert(0, 'Image', image_list)\n",
    "\n",
    "# Display the DataFrame\n",
    "df\n"
   ]
  },
  {
   "cell_type": "code",
   "execution_count": 7,
   "id": "255caf82",
   "metadata": {},
   "outputs": [],
   "source": [
    "#save dataframe as excel \n",
    "df.to_excel(\"/home/gauss/Desktop/Revised_Data_Features/EfficientNetB0 trained binary MHB Bbox Size 90/Plate_7.xlsx\")\n"
   ]
  },
  {
   "cell_type": "code",
   "execution_count": null,
   "id": "894d14fe",
   "metadata": {},
   "outputs": [],
   "source": [
    "len(image_list)"
   ]
  },
  {
   "cell_type": "code",
   "execution_count": null,
   "id": "cda5efca",
   "metadata": {},
   "outputs": [],
   "source": [
    "image_list[0:150]"
   ]
  },
  {
   "cell_type": "code",
   "execution_count": null,
   "id": "2f184072",
   "metadata": {},
   "outputs": [],
   "source": []
  },
  {
   "cell_type": "code",
   "execution_count": null,
   "id": "9513520a",
   "metadata": {},
   "outputs": [],
   "source": []
  }
 ],
 "metadata": {
  "kernelspec": {
   "display_name": "Python 3 (ipykernel)",
   "language": "python",
   "name": "python3"
  },
  "language_info": {
   "codemirror_mode": {
    "name": "ipython",
    "version": 3
   },
   "file_extension": ".py",
   "mimetype": "text/x-python",
   "name": "python",
   "nbconvert_exporter": "python",
   "pygments_lexer": "ipython3",
   "version": "3.12.3"
  }
 },
 "nbformat": 4,
 "nbformat_minor": 5
}
