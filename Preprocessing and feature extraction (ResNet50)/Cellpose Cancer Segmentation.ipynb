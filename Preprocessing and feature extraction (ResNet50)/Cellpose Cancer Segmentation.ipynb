{
 "cells": [
  {
   "cell_type": "code",
   "execution_count": 1,
   "id": "faced-vocabulary",
   "metadata": {},
   "outputs": [],
   "source": [
    "import os\n",
    "os.environ[\"CUDA_DEVICE_ORDER\"] = \"PCI_BUS_ID\"\n",
    "os.environ[\"CUDA_VISIBLE_DEVICES\"] = \"1\""
   ]
  },
  {
   "cell_type": "code",
   "execution_count": 2,
   "id": "analyzed-section",
   "metadata": {},
   "outputs": [],
   "source": [
    "import numpy as np\n",
    "import time, os, sys\n",
    "import matplotlib.pyplot as plt\n",
    "import matplotlib as mpl\n",
    "%matplotlib inline\n",
    "mpl.rcParams['figure.dpi'] = 300\n",
    "from cellpose import utils, io\n",
    "import glob\n",
    "from PIL import Image\n",
    "import cv2 "
   ]
  },
  {
   "cell_type": "code",
   "execution_count": 3,
   "id": "decreased-server",
   "metadata": {},
   "outputs": [],
   "source": [
    "from cellpose import models, io\n",
    "\n",
    "# DEFINE CELLPOSE MODEL\n",
    "# model_type='cyto' or model_type='nuclei'\n",
    "model = models.Cellpose(gpu=False, model_type='cyto')\n",
    "channels = [1,0]\n",
    "i_size = (2160,2160) #HARMONY DATA 2160X2160 \n",
    "                    #BROAD DATA 2560X2048"
   ]
  },
  {
   "cell_type": "code",
   "execution_count": 4,
   "id": "compatible-prescription",
   "metadata": {},
   "outputs": [],
   "source": [
    "images = sorted([os.path.basename(x) for x in glob.glob('/media/gauss/Osheen/Raw_Plate_N3A81/Merged_FOV/Cancer/*.tiff')])\n",
    "folder = '/media/gauss/Osheen/Raw_Plate_N3A81/Merged_FOV/Cancer/'\n",
    "for i in range (len(images)):\n",
    "    filename = images[i]\n",
    "    prefix = filename.split(\"f01p01-ch2sk1fk1fl1.tiff\")[0] \n",
    "    img = os.path.join(folder, images[i])\n",
    "    img = io.imread(img)\n",
    "    masks, flows, styles, diams = model.eval(img, diameter=None, channels=channels)\n",
    "    output = cv2.resize(flows[0], i_size)\n",
    "    #cv2.imwrite('/media/gauss/Osheen/Raw_Plate_N3A81/Cellpose/'+ prefix+'.tiff',output)\n",
    "    "
   ]
  },
  {
   "cell_type": "code",
   "execution_count": null,
   "id": "55718aaa",
   "metadata": {},
   "outputs": [],
   "source": []
  }
 ],
 "metadata": {
  "kernelspec": {
   "display_name": "Python 3 (ipykernel)",
   "language": "python",
   "name": "python3"
  },
  "language_info": {
   "codemirror_mode": {
    "name": "ipython",
    "version": 3
   },
   "file_extension": ".py",
   "mimetype": "text/x-python",
   "name": "python",
   "nbconvert_exporter": "python",
   "pygments_lexer": "ipython3",
   "version": "3.10.12"
  }
 },
 "nbformat": 4,
 "nbformat_minor": 5
}
