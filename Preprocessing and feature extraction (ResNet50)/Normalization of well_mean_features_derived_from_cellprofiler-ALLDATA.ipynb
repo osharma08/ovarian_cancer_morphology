{
 "cells": [
  {
   "cell_type": "code",
   "execution_count": 1,
   "id": "63751215-e883-49c4-aeeb-fd9e8e8079fc",
   "metadata": {},
   "outputs": [],
   "source": [
    "import pandas as pd\n",
    "import numpy as np\n",
    "from scipy import stats\n",
    "\n",
    "# Read the Excel file\n",
    "df = pd.read_excel('/home/gauss/Desktop/CellProfiler_Features/O8W.xlsx')\n"
   ]
  },
  {
   "cell_type": "code",
   "execution_count": 2,
   "id": "fd9f5756-90ce-4bed-b4fc-338602e3e9da",
   "metadata": {},
   "outputs": [],
   "source": [
    "# Get the list of unique plate numbers\n",
    "plate_numbers = df['Plate number'].unique()\n",
    "\n",
    "# Initialize an empty list to store normalized dataframes\n",
    "normalized_dfs = []\n",
    "\n",
    "# Iterate through each plate\n",
    "for plate in plate_numbers:\n",
    "    # Filter data for the current plate\n",
    "    plate_data = df[df['Plate number'] == plate]\n",
    "    \n",
    "    # Identify DMSO wells\n",
    "    dmso_data = plate_data[plate_data['Compound'] == 'DMSO']\n",
    "    \n",
    "    # Identify feature columns starting with \"Mean_\"\n",
    "    feature_cols = [col for col in plate_data.columns if col.startswith('Mean_')]\n",
    "    \n",
    "    # Compute median and median absolute deviation for DMSO wells\n",
    "    dmso_median = dmso_data[feature_cols].median()\n",
    "    dmso_mad = dmso_data[feature_cols].apply(stats.median_abs_deviation)\n",
    "    \n",
    "    # Perform normalization\n",
    "    normalized_data = plate_data.copy()\n",
    "    normalized_data[feature_cols] = (normalized_data[feature_cols] - dmso_median) / dmso_mad\n",
    "    \n",
    "    # Append normalized data to the list\n",
    "    normalized_dfs.append(normalized_data)\n",
    "\n",
    "# Combine all normalized dataframes\n",
    "df_normalized = pd.concat(normalized_dfs, ignore_index=True)\n",
    "\n",
    "# Remove columns starting with \"Median_\" or \"StDev_\" or ending with \"_X\" or \"_Y\"\n",
    "columns_to_keep = [col for col in df_normalized.columns if not (\n",
    "    col.startswith('Median_') or \n",
    "    col.startswith('StDev_') or \n",
    "    col.endswith('_X') or \n",
    "    col.endswith('_Y')\n",
    ")]\n",
    "\n",
    "df_normalized_filtered = df_normalized[columns_to_keep]\n",
    "\n",
    "# Save the filtered normalized dataframe\n",
    "df_normalized_filtered.to_excel('/home/gauss/Desktop/CellProfiler_Features/O8W_normalized.xlsx', index=False)\n"
   ]
  },
  {
   "cell_type": "code",
   "execution_count": null,
   "id": "499678fc-d38e-4be5-a88c-4d84e68dbeef",
   "metadata": {},
   "outputs": [],
   "source": []
  },
  {
   "cell_type": "code",
   "execution_count": null,
   "id": "4e41b634-9a97-4cb2-ae88-01e65e8704af",
   "metadata": {},
   "outputs": [],
   "source": []
  }
 ],
 "metadata": {
  "kernelspec": {
   "display_name": "Python 3 (ipykernel)",
   "language": "python",
   "name": "python3"
  },
  "language_info": {
   "codemirror_mode": {
    "name": "ipython",
    "version": 3
   },
   "file_extension": ".py",
   "mimetype": "text/x-python",
   "name": "python",
   "nbconvert_exporter": "python",
   "pygments_lexer": "ipython3",
   "version": "3.12.3"
  }
 },
 "nbformat": 4,
 "nbformat_minor": 5
}
