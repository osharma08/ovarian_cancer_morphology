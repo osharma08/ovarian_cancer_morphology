{
 "cells": [
  {
   "cell_type": "markdown",
   "id": "caring-drinking",
   "metadata": {},
   "source": [
    "# Step 1:\n",
    "\n",
    "## Load the libraries"
   ]
  },
  {
   "cell_type": "code",
   "execution_count": 7,
   "id": "banned-treasury",
   "metadata": {},
   "outputs": [],
   "source": [
    "import pandas as pd  \n",
    "import numpy as np\n",
    "from pandas import read_excel\n",
    "import pandas as pd\n",
    "import scipy\n",
    "from scipy import stats\n",
    "import os\n",
    "from glob import glob\n",
    "from scipy.stats import median_abs_deviation\n"
   ]
  },
  {
   "cell_type": "markdown",
   "id": "premium-helen",
   "metadata": {},
   "source": [
    "# Step 2: Computing the statistics for DMSO wells\n",
    "## a) Read the dataframe with mean aggregated features"
   ]
  },
  {
   "cell_type": "code",
   "execution_count": 8,
   "id": "aa3315cf-3d0d-4bae-bf9d-81b439ea037f",
   "metadata": {},
   "outputs": [
    {
     "name": "stdout",
     "output_type": "stream",
     "text": [
      "Plate_1.xlsx Plate 1_annot.xlsx\n",
      "Normalized data for Plate_1 saved to /home/gauss/Desktop/Revised_Data_Features/Pretrained baseline MobileNetV2 Bbox Size 90/MHB_normalized/Plate_1.xlsx.\n",
      "Plate_2.xlsx Plate 2_annot.xlsx\n",
      "Normalized data for Plate_2 saved to /home/gauss/Desktop/Revised_Data_Features/Pretrained baseline MobileNetV2 Bbox Size 90/MHB_normalized/Plate_2.xlsx.\n",
      "Plate_3.xlsx Plate 3_annot.xlsx\n",
      "Normalized data for Plate_3 saved to /home/gauss/Desktop/Revised_Data_Features/Pretrained baseline MobileNetV2 Bbox Size 90/MHB_normalized/Plate_3.xlsx.\n",
      "Plate_4.xlsx Plate 4_annot.xlsx\n",
      "Normalized data for Plate_4 saved to /home/gauss/Desktop/Revised_Data_Features/Pretrained baseline MobileNetV2 Bbox Size 90/MHB_normalized/Plate_4.xlsx.\n",
      "Plate_5.xlsx Plate 5_annot.xlsx\n",
      "Normalized data for Plate_5 saved to /home/gauss/Desktop/Revised_Data_Features/Pretrained baseline MobileNetV2 Bbox Size 90/MHB_normalized/Plate_5.xlsx.\n",
      "Plate_6.xlsx Plate 6_annot.xlsx\n",
      "Normalized data for Plate_6 saved to /home/gauss/Desktop/Revised_Data_Features/Pretrained baseline MobileNetV2 Bbox Size 90/MHB_normalized/Plate_6.xlsx.\n",
      "Plate_7.xlsx Plate 7_annot.xlsx\n",
      "Normalized data for Plate_7 saved to /home/gauss/Desktop/Revised_Data_Features/Pretrained baseline MobileNetV2 Bbox Size 90/MHB_normalized/Plate_7.xlsx.\n",
      "Plate_8.xlsx Plate 8_annot.xlsx\n",
      "Normalized data for Plate_8 saved to /home/gauss/Desktop/Revised_Data_Features/Pretrained baseline MobileNetV2 Bbox Size 90/MHB_normalized/Plate_8.xlsx.\n"
     ]
    }
   ],
   "source": [
    "# Paths\n",
    "feature_folder = '/home/gauss/Desktop/Revised_Data_Features/Pretrained baseline MobileNetV2 Bbox Size 90/MHB/'\n",
    "annot_folder = '/home/gauss/Desktop/Revised_Data_Features/Pretrained baseline MobileNetV2 Bbox Size 90/Plate annotations for MHB_NN/'\n",
    "output_folder = '/home/gauss/Desktop/Revised_Data_Features/Pretrained baseline MobileNetV2 Bbox Size 90/MHB_normalized/'\n",
    "\n",
    "# Ensure output folder exists\n",
    "os.makedirs(output_folder, exist_ok=True)\n",
    "\n",
    "# Get sorted feature and annotation files\n",
    "feature_files = sorted([f for f in os.listdir(feature_folder) if f.endswith('.xlsx')])\n",
    "annotation_files = sorted([f for f in os.listdir(annot_folder) if f.endswith('.xlsx')])\n",
    "\n",
    "# Process each pair of feature and annotation files\n",
    "for feature_file, annot_file in zip(feature_files, annotation_files):\n",
    "    print(feature_file, annot_file)\n",
    "    # Load data\n",
    "    features = pd.read_excel(os.path.join(feature_folder, feature_file))\n",
    "    annotation = pd.read_excel(os.path.join(annot_folder, annot_file))\n",
    "\n",
    "    # Merge features and annotations\n",
    "    merged_data = pd.concat([features, annotation], axis=1)\n",
    "    \n",
    "    # Filter DMSO rows\n",
    "    dmso_data = merged_data[merged_data['Compound'] == 'DMSO']\n",
    "\n",
    "    # Select feature columns starting with 'f'\n",
    "    feature_columns = dmso_data.filter(regex='^f').columns\n",
    "    feature_columns_dmso = dmso_data[feature_columns]\n",
    "\n",
    "    # Compute median and MAD\n",
    "    median_values = feature_columns_dmso.median()\n",
    "    mad_values = feature_columns_dmso.apply(median_abs_deviation)\n",
    "\n",
    "    # Create stats DataFrame\n",
    "    stats_df = pd.DataFrame([median_values, mad_values], index=['Median', 'MAD'])\n",
    "\n",
    "    # Normalize features\n",
    "    normalized_features = merged_data[feature_columns].subtract(stats_df.loc['Median'], axis=1).div(stats_df.loc['MAD'], axis=1)\n",
    "\n",
    "    # Combine normalized features with non-feature columns\n",
    "    non_feature_columns = merged_data.columns.difference(feature_columns)\n",
    "    normalized_data = pd.concat([normalized_features, merged_data[non_feature_columns]], axis=1)\n",
    "\n",
    "    # Save normalized data\n",
    "    plate_name = os.path.splitext(feature_file)[0]  # Extract plate name without extension\n",
    "    output_path = os.path.join(output_folder, f\"{plate_name}.xlsx\")\n",
    "    normalized_data.to_excel(output_path, index=False)\n",
    "\n",
    "    print(f\"Normalized data for {plate_name} saved to {output_path}.\")\n",
    "\n"
   ]
  },
  {
   "cell_type": "code",
   "execution_count": 9,
   "id": "8011d5b0",
   "metadata": {},
   "outputs": [
    {
     "name": "stdout",
     "output_type": "stream",
     "text": [
      "/home/gauss/Desktop/Revised_Data_Features/Pretrained baseline MobileNetV2 Bbox Size 90/MHB_normalized\n"
     ]
    },
    {
     "name": "stderr",
     "output_type": "stream",
     "text": [
      "/home/gauss/miniconda3/envs/tf24/lib/python3.12/site-packages/IPython/core/magics/osm.py:417: UserWarning: This is now an optional IPython functionality, setting dhist requires you to install the `pickleshare` library.\n",
      "  self.shell.db['dhist'] = compress_dhist(dhist)[-100:]\n"
     ]
    }
   ],
   "source": [
    "cd /home/gauss/Desktop/Revised_Data_Features/Pretrained baseline MobileNetV2 Bbox Size 90/MHB_normalized/\n"
   ]
  },
  {
   "cell_type": "code",
   "execution_count": 10,
   "id": "4eab89cb-a813-4e66-9ebe-a52608fdb3c2",
   "metadata": {},
   "outputs": [
    {
     "name": "stdout",
     "output_type": "stream",
     "text": [
      "N1863.xlsx  N3863.xlsx  N5863.xlsx  N7863.xlsx\n",
      "N2863.xlsx  N4863.xlsx  N6863.xlsx  N8863.xlsx\n"
     ]
    }
   ],
   "source": [
    "ls"
   ]
  },
  {
   "cell_type": "code",
   "execution_count": 11,
   "id": "1261c6c9",
   "metadata": {},
   "outputs": [],
   "source": [
    "rm -r .ipynb_checkpoints"
   ]
  },
  {
   "cell_type": "markdown",
   "id": "determined-fairy",
   "metadata": {},
   "source": [
    "# Merge all the plates of all the combinations in one single dataframe "
   ]
  },
  {
   "cell_type": "code",
   "execution_count": 12,
   "id": "89ca9d7f",
   "metadata": {},
   "outputs": [
    {
     "name": "stdout",
     "output_type": "stream",
     "text": [
      "N1863.xlsx\n",
      "N1863\n",
      "N2863.xlsx\n",
      "N2863\n",
      "N3863.xlsx\n",
      "N3863\n",
      "N4863.xlsx\n",
      "N4863\n",
      "N5863.xlsx\n",
      "N5863\n",
      "N6863.xlsx\n",
      "N6863\n",
      "N7863.xlsx\n",
      "N7863\n",
      "N8863.xlsx\n",
      "N8863\n"
     ]
    }
   ],
   "source": [
    "appended_data = []\n",
    "\n",
    "norm_features = '/home/gauss/Desktop/Revised_Data_Features/Pretrained baseline MobileNetV2 Bbox Size 90/MHB_normalized/'\n",
    "\n",
    "for feature_file in sorted(os.listdir(norm_features)):\n",
    "    print(feature_file)\n",
    "    norm_feature_data = pd.read_excel(os.path.join(norm_features, feature_file))\n",
    "    \n",
    "    #prefix_comb = feature_file.split(\"_\")[1]\n",
    "    prefix_comb = feature_file.split(\".\")[0]\n",
    "    print(prefix_comb)\n",
    "\n",
    "    if \"A81\" in prefix_comb:\n",
    "        combo = \"O3B\"\n",
    "        \n",
    "    elif \"A82\" in prefix_comb:\n",
    "        combo = 'KB'\n",
    "    \n",
    "    elif \"Set25\" in prefix_comb:\n",
    "        combo = 'KW'\n",
    "        \n",
    "    elif \"Set89\" in prefix_comb:\n",
    "        combo = 'O8W'\n",
    "        \n",
    "    elif \"863\" in prefix_comb:\n",
    "        combo = 'MHB'\n",
    "        \n",
    "    combination = combo\n",
    "    #print(combination)\n",
    "\n",
    "    norm_feature_data.insert(0,'Combination', combination)\n",
    "    \n",
    "    #prefix_plate = feature_file.split(\"_\")[1]\n",
    "    #prefix_plate = prefix_comb.split(\"_\")[1]\n",
    "    prefix_plate = list(prefix_comb)\n",
    "    #print(prefix_plate)\n",
    "\n",
    "    norm_feature_data.insert(0,'Plate number', prefix_plate[1] )\n",
    "\n",
    "    appended_data.append(norm_feature_data)\n",
    "    \n",
    "appended_data = pd.concat(appended_data)\n",
    "# write DataFrame to an excel sheet \n",
    "appended_data.to_excel('/home/gauss/Desktop/Revised_Data_Features/Pretrained baseline MobileNetV2 Bbox Size 90/MHB_normalized/alldata.xlsx')\n"
   ]
  },
  {
   "cell_type": "code",
   "execution_count": null,
   "id": "cc0b5de7-6485-4580-a6ef-80e14c60dd78",
   "metadata": {},
   "outputs": [],
   "source": [
    "all_data_MHB = pd.read_excel('/home/gauss/Desktop/Revised_Data_Features/Pretrained baseline EfficientNetB0 Bbox Size 50/MHB_normalized/alldata.xlsx')\n",
    "all_data_MHB.head()"
   ]
  },
  {
   "cell_type": "code",
   "execution_count": null,
   "id": "99c049c6-634c-4fba-9bcc-14a14af9db6e",
   "metadata": {},
   "outputs": [],
   "source": []
  }
 ],
 "metadata": {
  "kernelspec": {
   "display_name": "Python 3 (ipykernel)",
   "language": "python",
   "name": "python3"
  },
  "language_info": {
   "codemirror_mode": {
    "name": "ipython",
    "version": 3
   },
   "file_extension": ".py",
   "mimetype": "text/x-python",
   "name": "python",
   "nbconvert_exporter": "python",
   "pygments_lexer": "ipython3",
   "version": "3.12.3"
  }
 },
 "nbformat": 4,
 "nbformat_minor": 5
}
